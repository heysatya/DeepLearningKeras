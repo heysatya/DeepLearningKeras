{
  "nbformat": 4,
  "nbformat_minor": 0,
  "metadata": {
    "kernelspec": {
      "display_name": "Python",
      "language": "python",
      "name": "conda-env-python-py"
    },
    "language_info": {
      "codemirror_mode": {
        "name": "ipython",
        "version": 3
      },
      "file_extension": ".py",
      "mimetype": "text/x-python",
      "name": "python",
      "nbconvert_exporter": "python",
      "pygments_lexer": "ipython3",
      "version": "3.6.12"
    },
    "colab": {
      "name": "Graded Assignment Project - Regression Model in Keras.ipynb",
      "provenance": [],
      "include_colab_link": true
    }
  },
  "cells": [
    {
      "cell_type": "markdown",
      "metadata": {
        "id": "view-in-github",
        "colab_type": "text"
      },
      "source": [
        "<a href=\"https://colab.research.google.com/github/heysatya/DeepLearningKeras/blob/main/Graded_Assignment_Project_Regression_Model_in_Keras.ipynb\" target=\"_parent\"><img src=\"https://colab.research.google.com/assets/colab-badge.svg\" alt=\"Open In Colab\"/></a>"
      ]
    },
    {
      "cell_type": "markdown",
      "metadata": {
        "button": false,
        "deletable": true,
        "new_sheet": false,
        "run_control": {
          "read_only": false
        },
        "id": "BCBszn2RDejJ"
      },
      "source": [
        "<h1 align=center><font size = 5>Graded Assignment Project - Regression Model in Keras</font></h1>\n"
      ]
    },
    {
      "cell_type": "markdown",
      "metadata": {
        "button": false,
        "deletable": true,
        "new_sheet": false,
        "run_control": {
          "read_only": false
        },
        "id": "10MHtD5VDejP"
      },
      "source": [
        "## Introduction\n"
      ]
    },
    {
      "cell_type": "markdown",
      "metadata": {
        "button": false,
        "deletable": true,
        "new_sheet": false,
        "run_control": {
          "read_only": false
        },
        "id": "a9G297OjDejQ"
      },
      "source": [
        "In this course project, I will build a regression model using the deep learning Keras library, and then experiment with increasing the number of training epochs and changing number of hidden layers to find out how changing these parameters impacts the performance of the model.\n"
      ]
    },
    {
      "cell_type": "markdown",
      "metadata": {
        "id": "7G3rfIS1DejQ"
      },
      "source": [
        "<h4>Objective for this Assignment<h4>    \n",
        "<h5> A. Build a baseline model </h5>\n",
        "<h5> B. Normalize the data </h5>\n",
        "<h5> C. Increase the number of epochs </h5>\n",
        "<h5> D. Increase the number of hidden layers </h5>   \n"
      ]
    },
    {
      "cell_type": "markdown",
      "metadata": {
        "button": false,
        "deletable": true,
        "new_sheet": false,
        "run_control": {
          "read_only": false
        },
        "id": "0hg8E-RKDejR"
      },
      "source": [
        "## Table of Contents\n",
        "\n",
        "<div class=\"alert alert-block alert-info\" style=\"margin-top: 20px\">\n",
        "\n",
        "<font size = 3>\n",
        "    \n",
        "<a href=\"#item31\">A. Build a baseline model</a>  \n",
        "<a href=\"#item32\">B. Normalize the data</a>  \n",
        "<a href=\"#item33\">C. Increase the number of epochs </a>  \n",
        "<a href=\"#item34\">D. Increase the number of hidden layers </a>  \n",
        "\n",
        "</font>\n",
        "</div>\n"
      ]
    },
    {
      "cell_type": "markdown",
      "metadata": {
        "button": false,
        "deletable": true,
        "new_sheet": false,
        "run_control": {
          "read_only": false
        },
        "id": "2ZM5LngkDejR"
      },
      "source": [
        "<a id=\"item31\"></a>\n"
      ]
    },
    {
      "cell_type": "markdown",
      "metadata": {
        "button": false,
        "deletable": true,
        "new_sheet": false,
        "run_control": {
          "read_only": false
        },
        "id": "xsWQTHpfDejR"
      },
      "source": [
        "## A. Build a baseline model\n",
        "\n",
        "In this first step, we will use the Keras library to build a neural network with the following:\n",
        "- One hidden layer of 10 nodes, and a ReLU activation function\n",
        "- Use the adam optimizer and the mean squared error  as the loss function.\n"
      ]
    },
    {
      "cell_type": "markdown",
      "metadata": {
        "button": false,
        "deletable": true,
        "new_sheet": false,
        "run_control": {
          "read_only": false
        },
        "id": "KvDZ-7p1DejS"
      },
      "source": [
        "#### Import the Pandas and the Numpy libraries.\n"
      ]
    },
    {
      "cell_type": "code",
      "metadata": {
        "button": false,
        "deletable": true,
        "new_sheet": false,
        "run_control": {
          "read_only": false
        },
        "id": "kbtsapNNDejS"
      },
      "source": [
        "import pandas as pd\n",
        "import numpy as np"
      ],
      "execution_count": 1,
      "outputs": []
    },
    {
      "cell_type": "markdown",
      "metadata": {
        "button": false,
        "deletable": true,
        "new_sheet": false,
        "run_control": {
          "read_only": false
        },
        "id": "NWJvNhucDejS"
      },
      "source": [
        "The dataset is about the compressive strength of different samples of concrete based on the volumes of the different ingredients that were used to make them. \n",
        "    \n",
        "The data has been downloaded from: https://cocl.us/concrete_data.\n",
        "    \n",
        "The predictors in the data of concrete strength include include:\n",
        "1. Cement\n",
        "2. Blast Furnace Slag\n",
        "3. Fly Ash\n",
        "4. Water\n",
        "5. Superplasticizer\n",
        "6. Coarse Aggregate\n",
        "7. Fine Aggregate\n"
      ]
    },
    {
      "cell_type": "markdown",
      "metadata": {
        "button": false,
        "deletable": true,
        "new_sheet": false,
        "run_control": {
          "read_only": false
        },
        "id": "ja8tnjmqDejT"
      },
      "source": [
        "#### Read the data into a Pandas dataframe.\n"
      ]
    },
    {
      "cell_type": "code",
      "metadata": {
        "button": false,
        "deletable": true,
        "new_sheet": false,
        "run_control": {
          "read_only": false
        },
        "colab": {
          "base_uri": "https://localhost:8080/",
          "height": 195
        },
        "id": "wIpglEEjDejT",
        "outputId": "a53f5744-773d-47cb-f8e0-cbadf06dcbd9"
      },
      "source": [
        "concrete_data = pd.read_csv('https://cocl.us/concrete_data')\n",
        "concrete_data.head()"
      ],
      "execution_count": 2,
      "outputs": [
        {
          "output_type": "execute_result",
          "data": {
            "text/html": [
              "<div>\n",
              "<style scoped>\n",
              "    .dataframe tbody tr th:only-of-type {\n",
              "        vertical-align: middle;\n",
              "    }\n",
              "\n",
              "    .dataframe tbody tr th {\n",
              "        vertical-align: top;\n",
              "    }\n",
              "\n",
              "    .dataframe thead th {\n",
              "        text-align: right;\n",
              "    }\n",
              "</style>\n",
              "<table border=\"1\" class=\"dataframe\">\n",
              "  <thead>\n",
              "    <tr style=\"text-align: right;\">\n",
              "      <th></th>\n",
              "      <th>Cement</th>\n",
              "      <th>Blast Furnace Slag</th>\n",
              "      <th>Fly Ash</th>\n",
              "      <th>Water</th>\n",
              "      <th>Superplasticizer</th>\n",
              "      <th>Coarse Aggregate</th>\n",
              "      <th>Fine Aggregate</th>\n",
              "      <th>Age</th>\n",
              "      <th>Strength</th>\n",
              "    </tr>\n",
              "  </thead>\n",
              "  <tbody>\n",
              "    <tr>\n",
              "      <th>0</th>\n",
              "      <td>540.0</td>\n",
              "      <td>0.0</td>\n",
              "      <td>0.0</td>\n",
              "      <td>162.0</td>\n",
              "      <td>2.5</td>\n",
              "      <td>1040.0</td>\n",
              "      <td>676.0</td>\n",
              "      <td>28</td>\n",
              "      <td>79.99</td>\n",
              "    </tr>\n",
              "    <tr>\n",
              "      <th>1</th>\n",
              "      <td>540.0</td>\n",
              "      <td>0.0</td>\n",
              "      <td>0.0</td>\n",
              "      <td>162.0</td>\n",
              "      <td>2.5</td>\n",
              "      <td>1055.0</td>\n",
              "      <td>676.0</td>\n",
              "      <td>28</td>\n",
              "      <td>61.89</td>\n",
              "    </tr>\n",
              "    <tr>\n",
              "      <th>2</th>\n",
              "      <td>332.5</td>\n",
              "      <td>142.5</td>\n",
              "      <td>0.0</td>\n",
              "      <td>228.0</td>\n",
              "      <td>0.0</td>\n",
              "      <td>932.0</td>\n",
              "      <td>594.0</td>\n",
              "      <td>270</td>\n",
              "      <td>40.27</td>\n",
              "    </tr>\n",
              "    <tr>\n",
              "      <th>3</th>\n",
              "      <td>332.5</td>\n",
              "      <td>142.5</td>\n",
              "      <td>0.0</td>\n",
              "      <td>228.0</td>\n",
              "      <td>0.0</td>\n",
              "      <td>932.0</td>\n",
              "      <td>594.0</td>\n",
              "      <td>365</td>\n",
              "      <td>41.05</td>\n",
              "    </tr>\n",
              "    <tr>\n",
              "      <th>4</th>\n",
              "      <td>198.6</td>\n",
              "      <td>132.4</td>\n",
              "      <td>0.0</td>\n",
              "      <td>192.0</td>\n",
              "      <td>0.0</td>\n",
              "      <td>978.4</td>\n",
              "      <td>825.5</td>\n",
              "      <td>360</td>\n",
              "      <td>44.30</td>\n",
              "    </tr>\n",
              "  </tbody>\n",
              "</table>\n",
              "</div>"
            ],
            "text/plain": [
              "   Cement  Blast Furnace Slag  Fly Ash  ...  Fine Aggregate  Age  Strength\n",
              "0   540.0                 0.0      0.0  ...           676.0   28     79.99\n",
              "1   540.0                 0.0      0.0  ...           676.0   28     61.89\n",
              "2   332.5               142.5      0.0  ...           594.0  270     40.27\n",
              "3   332.5               142.5      0.0  ...           594.0  365     41.05\n",
              "4   198.6               132.4      0.0  ...           825.5  360     44.30\n",
              "\n",
              "[5 rows x 9 columns]"
            ]
          },
          "metadata": {
            "tags": []
          },
          "execution_count": 2
        }
      ]
    },
    {
      "cell_type": "markdown",
      "metadata": {
        "button": false,
        "deletable": true,
        "new_sheet": false,
        "run_control": {
          "read_only": false
        },
        "id": "8VDkcP42DejU"
      },
      "source": [
        "As can be seen from the data, the first concrete sample has 540 cubic meter of cement, 0 cubic meter of blast furnace slag, 0 cubic meter of fly ash, 162 cubic meter of water, 2.5 cubic meter of superplaticizer, 1040 cubic meter of coarse aggregate, 676 cubic meter of fine aggregate. This concrete mix is 28 days old and has a compressive strength of 79.99 MPa. \n"
      ]
    },
    {
      "cell_type": "markdown",
      "metadata": {
        "button": false,
        "deletable": true,
        "new_sheet": false,
        "run_control": {
          "read_only": false
        },
        "id": "yUJVzLH3DejU"
      },
      "source": [
        "#### Split data into predictors and target\n"
      ]
    },
    {
      "cell_type": "markdown",
      "metadata": {
        "id": "lc89xiB4DejU"
      },
      "source": [
        "The target variable in this case is the concrete sample strength. Therefore, all the columns will be considered as predictors.\n"
      ]
    },
    {
      "cell_type": "code",
      "metadata": {
        "button": false,
        "deletable": true,
        "new_sheet": false,
        "run_control": {
          "read_only": false
        },
        "id": "MVDVTqwUDejU"
      },
      "source": [
        "concrete_data_columns = concrete_data.columns\n",
        "\n",
        "predictors = concrete_data[concrete_data_columns[concrete_data_columns != 'Strength']] # all columns except Strength\n",
        "target = concrete_data['Strength'] # Strength column"
      ],
      "execution_count": 3,
      "outputs": []
    },
    {
      "cell_type": "markdown",
      "metadata": {
        "button": false,
        "deletable": true,
        "new_sheet": false,
        "run_control": {
          "read_only": false
        },
        "id": "YtHzMIdsDejV"
      },
      "source": [
        "<a id=\"item2\"></a>\n"
      ]
    },
    {
      "cell_type": "markdown",
      "metadata": {
        "button": false,
        "deletable": true,
        "new_sheet": false,
        "run_control": {
          "read_only": false
        },
        "id": "d8Ce6WoVDejV"
      },
      "source": [
        "#### Sanity check of the predictors and the target dataframes.\n"
      ]
    },
    {
      "cell_type": "code",
      "metadata": {
        "button": false,
        "deletable": true,
        "new_sheet": false,
        "run_control": {
          "read_only": false
        },
        "colab": {
          "base_uri": "https://localhost:8080/",
          "height": 195
        },
        "id": "POpuz1BcDejV",
        "outputId": "d8a3aedc-3603-489a-d034-82b0d940a8ce"
      },
      "source": [
        "predictors.head()"
      ],
      "execution_count": 4,
      "outputs": [
        {
          "output_type": "execute_result",
          "data": {
            "text/html": [
              "<div>\n",
              "<style scoped>\n",
              "    .dataframe tbody tr th:only-of-type {\n",
              "        vertical-align: middle;\n",
              "    }\n",
              "\n",
              "    .dataframe tbody tr th {\n",
              "        vertical-align: top;\n",
              "    }\n",
              "\n",
              "    .dataframe thead th {\n",
              "        text-align: right;\n",
              "    }\n",
              "</style>\n",
              "<table border=\"1\" class=\"dataframe\">\n",
              "  <thead>\n",
              "    <tr style=\"text-align: right;\">\n",
              "      <th></th>\n",
              "      <th>Cement</th>\n",
              "      <th>Blast Furnace Slag</th>\n",
              "      <th>Fly Ash</th>\n",
              "      <th>Water</th>\n",
              "      <th>Superplasticizer</th>\n",
              "      <th>Coarse Aggregate</th>\n",
              "      <th>Fine Aggregate</th>\n",
              "      <th>Age</th>\n",
              "    </tr>\n",
              "  </thead>\n",
              "  <tbody>\n",
              "    <tr>\n",
              "      <th>0</th>\n",
              "      <td>540.0</td>\n",
              "      <td>0.0</td>\n",
              "      <td>0.0</td>\n",
              "      <td>162.0</td>\n",
              "      <td>2.5</td>\n",
              "      <td>1040.0</td>\n",
              "      <td>676.0</td>\n",
              "      <td>28</td>\n",
              "    </tr>\n",
              "    <tr>\n",
              "      <th>1</th>\n",
              "      <td>540.0</td>\n",
              "      <td>0.0</td>\n",
              "      <td>0.0</td>\n",
              "      <td>162.0</td>\n",
              "      <td>2.5</td>\n",
              "      <td>1055.0</td>\n",
              "      <td>676.0</td>\n",
              "      <td>28</td>\n",
              "    </tr>\n",
              "    <tr>\n",
              "      <th>2</th>\n",
              "      <td>332.5</td>\n",
              "      <td>142.5</td>\n",
              "      <td>0.0</td>\n",
              "      <td>228.0</td>\n",
              "      <td>0.0</td>\n",
              "      <td>932.0</td>\n",
              "      <td>594.0</td>\n",
              "      <td>270</td>\n",
              "    </tr>\n",
              "    <tr>\n",
              "      <th>3</th>\n",
              "      <td>332.5</td>\n",
              "      <td>142.5</td>\n",
              "      <td>0.0</td>\n",
              "      <td>228.0</td>\n",
              "      <td>0.0</td>\n",
              "      <td>932.0</td>\n",
              "      <td>594.0</td>\n",
              "      <td>365</td>\n",
              "    </tr>\n",
              "    <tr>\n",
              "      <th>4</th>\n",
              "      <td>198.6</td>\n",
              "      <td>132.4</td>\n",
              "      <td>0.0</td>\n",
              "      <td>192.0</td>\n",
              "      <td>0.0</td>\n",
              "      <td>978.4</td>\n",
              "      <td>825.5</td>\n",
              "      <td>360</td>\n",
              "    </tr>\n",
              "  </tbody>\n",
              "</table>\n",
              "</div>"
            ],
            "text/plain": [
              "   Cement  Blast Furnace Slag  Fly Ash  ...  Coarse Aggregate  Fine Aggregate  Age\n",
              "0   540.0                 0.0      0.0  ...            1040.0           676.0   28\n",
              "1   540.0                 0.0      0.0  ...            1055.0           676.0   28\n",
              "2   332.5               142.5      0.0  ...             932.0           594.0  270\n",
              "3   332.5               142.5      0.0  ...             932.0           594.0  365\n",
              "4   198.6               132.4      0.0  ...             978.4           825.5  360\n",
              "\n",
              "[5 rows x 8 columns]"
            ]
          },
          "metadata": {
            "tags": []
          },
          "execution_count": 4
        }
      ]
    },
    {
      "cell_type": "code",
      "metadata": {
        "button": false,
        "deletable": true,
        "new_sheet": false,
        "run_control": {
          "read_only": false
        },
        "colab": {
          "base_uri": "https://localhost:8080/"
        },
        "id": "F5OncetfDejV",
        "outputId": "fc13c0ed-9bdc-4c09-bd5c-4767b735dcf2"
      },
      "source": [
        "target.head()"
      ],
      "execution_count": 5,
      "outputs": [
        {
          "output_type": "execute_result",
          "data": {
            "text/plain": [
              "0    79.99\n",
              "1    61.89\n",
              "2    40.27\n",
              "3    41.05\n",
              "4    44.30\n",
              "Name: Strength, dtype: float64"
            ]
          },
          "metadata": {
            "tags": []
          },
          "execution_count": 5
        }
      ]
    },
    {
      "cell_type": "markdown",
      "metadata": {
        "id": "DTq0mfLMDejV"
      },
      "source": [
        "#### Save the number of predictors to _n_cols_ since we will need this number later on.\n"
      ]
    },
    {
      "cell_type": "code",
      "metadata": {
        "button": false,
        "deletable": true,
        "new_sheet": false,
        "run_control": {
          "read_only": false
        },
        "id": "dTgY8V63DejV"
      },
      "source": [
        "n_cols = predictors.shape[1] # number of predictors"
      ],
      "execution_count": 6,
      "outputs": []
    },
    {
      "cell_type": "markdown",
      "metadata": {
        "button": false,
        "deletable": true,
        "new_sheet": false,
        "run_control": {
          "read_only": false
        },
        "id": "hM_siu-iDejW"
      },
      "source": [
        "#### Import the Keras library\n"
      ]
    },
    {
      "cell_type": "code",
      "metadata": {
        "button": false,
        "deletable": true,
        "new_sheet": false,
        "run_control": {
          "read_only": false
        },
        "id": "IPUygemxDejW"
      },
      "source": [
        "import keras"
      ],
      "execution_count": 7,
      "outputs": []
    },
    {
      "cell_type": "markdown",
      "metadata": {
        "button": false,
        "deletable": true,
        "new_sheet": false,
        "run_control": {
          "read_only": false
        },
        "id": "bOiJ11uqDejW"
      },
      "source": [
        "#### Import the rest of the packages from the Keras library that we will need to build the regressoin model.\n"
      ]
    },
    {
      "cell_type": "code",
      "metadata": {
        "button": false,
        "deletable": true,
        "new_sheet": false,
        "run_control": {
          "read_only": false
        },
        "id": "zs-ilSjSDejW"
      },
      "source": [
        "from keras.models import Sequential\n",
        "from keras.layers import Dense"
      ],
      "execution_count": 8,
      "outputs": []
    },
    {
      "cell_type": "markdown",
      "metadata": {
        "button": false,
        "deletable": true,
        "new_sheet": false,
        "run_control": {
          "read_only": false
        },
        "id": "g01-L-ajDejW"
      },
      "source": [
        "### Build a Neural Network\n"
      ]
    },
    {
      "cell_type": "markdown",
      "metadata": {
        "button": false,
        "deletable": true,
        "new_sheet": false,
        "run_control": {
          "read_only": false
        },
        "id": "vYQ31fWbDejW"
      },
      "source": [
        "Define a function that defines the regression model that can be conveniently called it to create our model. Use the Keras library to build a neural network with the following:\n",
        "\n",
        "- One hidden layer of 10 nodes, and a ReLU activation function\n",
        "- Use the adam optimizer and the mean squared error  as the loss function.\n"
      ]
    },
    {
      "cell_type": "code",
      "metadata": {
        "button": false,
        "deletable": true,
        "new_sheet": false,
        "run_control": {
          "read_only": false
        },
        "id": "ALE6_kpeDejX"
      },
      "source": [
        "# define regression model\n",
        "def regression_model():\n",
        "    # create model\n",
        "    model = Sequential()\n",
        "    model.add(Dense(10, activation='relu', input_shape=(n_cols,)))\n",
        "    model.add(Dense(1))\n",
        "    # compile model\n",
        "    model.compile(optimizer='adam', loss='mean_squared_error')\n",
        "    return model"
      ],
      "execution_count": 9,
      "outputs": []
    },
    {
      "cell_type": "markdown",
      "metadata": {
        "id": "ywGNexGRBWsh"
      },
      "source": [
        "#### 1. Randomly split the data into a training and test sets by holding 30% of the data for testing, using the train_test_split helper function from scikit-learn"
      ]
    },
    {
      "cell_type": "code",
      "metadata": {
        "id": "38SZMMVOB3th"
      },
      "source": [
        "from sklearn.model_selection import train_test_split"
      ],
      "execution_count": 10,
      "outputs": []
    },
    {
      "cell_type": "code",
      "metadata": {
        "id": "LyZetFx6B627"
      },
      "source": [
        "Xtrain, Xtest, ytrain, ytest = train_test_split(predictors, target, test_size=0.3)"
      ],
      "execution_count": 11,
      "outputs": []
    },
    {
      "cell_type": "markdown",
      "metadata": {
        "id": "Ub_KyDGMDejX"
      },
      "source": [
        "#### Create the model.\n"
      ]
    },
    {
      "cell_type": "code",
      "metadata": {
        "button": false,
        "deletable": true,
        "new_sheet": false,
        "run_control": {
          "read_only": false
        },
        "id": "gg74BU0xDejX"
      },
      "source": [
        "# build the model\n",
        "model = regression_model()"
      ],
      "execution_count": 12,
      "outputs": []
    },
    {
      "cell_type": "markdown",
      "metadata": {
        "id": "NoROvWUKDejY"
      },
      "source": [
        "#### 2. Train the model on the training data using 50 epochs."
      ]
    },
    {
      "cell_type": "code",
      "metadata": {
        "colab": {
          "base_uri": "https://localhost:8080/"
        },
        "id": "SjuJzGUuDejY",
        "outputId": "d0f1b310-ee65-4b63-fed8-c63bd858f5ff"
      },
      "source": [
        "model.fit(Xtrain, ytrain, epochs=50, verbose=1)"
      ],
      "execution_count": 13,
      "outputs": [
        {
          "output_type": "stream",
          "text": [
            "Epoch 1/50\n",
            "23/23 [==============================] - 0s 1ms/step - loss: 14600.0227\n",
            "Epoch 2/50\n",
            "23/23 [==============================] - 0s 966us/step - loss: 10377.2459\n",
            "Epoch 3/50\n",
            "23/23 [==============================] - 0s 985us/step - loss: 7820.3005\n",
            "Epoch 4/50\n",
            "23/23 [==============================] - 0s 1ms/step - loss: 5724.2302\n",
            "Epoch 5/50\n",
            "23/23 [==============================] - 0s 1ms/step - loss: 4142.0964\n",
            "Epoch 6/50\n",
            "23/23 [==============================] - 0s 2ms/step - loss: 3311.8290\n",
            "Epoch 7/50\n",
            "23/23 [==============================] - 0s 1ms/step - loss: 2530.4533\n",
            "Epoch 8/50\n",
            "23/23 [==============================] - 0s 2ms/step - loss: 1744.2256\n",
            "Epoch 9/50\n",
            "23/23 [==============================] - 0s 1ms/step - loss: 1077.7043\n",
            "Epoch 10/50\n",
            "23/23 [==============================] - 0s 1ms/step - loss: 792.4590\n",
            "Epoch 11/50\n",
            "23/23 [==============================] - 0s 1ms/step - loss: 556.8784\n",
            "Epoch 12/50\n",
            "23/23 [==============================] - 0s 934us/step - loss: 470.3434\n",
            "Epoch 13/50\n",
            "23/23 [==============================] - 0s 1ms/step - loss: 422.1954\n",
            "Epoch 14/50\n",
            "23/23 [==============================] - 0s 1ms/step - loss: 469.2033\n",
            "Epoch 15/50\n",
            "23/23 [==============================] - 0s 1ms/step - loss: 404.7355\n",
            "Epoch 16/50\n",
            "23/23 [==============================] - 0s 1ms/step - loss: 371.6437\n",
            "Epoch 17/50\n",
            "23/23 [==============================] - 0s 1ms/step - loss: 348.7851\n",
            "Epoch 18/50\n",
            "23/23 [==============================] - 0s 1ms/step - loss: 345.6991\n",
            "Epoch 19/50\n",
            "23/23 [==============================] - 0s 1ms/step - loss: 335.6737\n",
            "Epoch 20/50\n",
            "23/23 [==============================] - 0s 1ms/step - loss: 313.8352\n",
            "Epoch 21/50\n",
            "23/23 [==============================] - 0s 1ms/step - loss: 303.7007\n",
            "Epoch 22/50\n",
            "23/23 [==============================] - 0s 1ms/step - loss: 269.2494\n",
            "Epoch 23/50\n",
            "23/23 [==============================] - 0s 1ms/step - loss: 282.3235\n",
            "Epoch 24/50\n",
            "23/23 [==============================] - 0s 1ms/step - loss: 234.2463\n",
            "Epoch 25/50\n",
            "23/23 [==============================] - 0s 1ms/step - loss: 270.5328\n",
            "Epoch 26/50\n",
            "23/23 [==============================] - 0s 1ms/step - loss: 247.0232\n",
            "Epoch 27/50\n",
            "23/23 [==============================] - 0s 1ms/step - loss: 243.2260\n",
            "Epoch 28/50\n",
            "23/23 [==============================] - 0s 1ms/step - loss: 217.8295\n",
            "Epoch 29/50\n",
            "23/23 [==============================] - 0s 1ms/step - loss: 210.2960\n",
            "Epoch 30/50\n",
            "23/23 [==============================] - 0s 1ms/step - loss: 223.0843\n",
            "Epoch 31/50\n",
            "23/23 [==============================] - 0s 1ms/step - loss: 216.8997\n",
            "Epoch 32/50\n",
            "23/23 [==============================] - 0s 1ms/step - loss: 214.4403\n",
            "Epoch 33/50\n",
            "23/23 [==============================] - 0s 1ms/step - loss: 219.7292\n",
            "Epoch 34/50\n",
            "23/23 [==============================] - 0s 1ms/step - loss: 205.4218\n",
            "Epoch 35/50\n",
            "23/23 [==============================] - 0s 1ms/step - loss: 193.3299\n",
            "Epoch 36/50\n",
            "23/23 [==============================] - 0s 1ms/step - loss: 193.1408\n",
            "Epoch 37/50\n",
            "23/23 [==============================] - 0s 1ms/step - loss: 195.6238\n",
            "Epoch 38/50\n",
            "23/23 [==============================] - 0s 1ms/step - loss: 190.9327\n",
            "Epoch 39/50\n",
            "23/23 [==============================] - 0s 1ms/step - loss: 167.0770\n",
            "Epoch 40/50\n",
            "23/23 [==============================] - 0s 2ms/step - loss: 174.3901\n",
            "Epoch 41/50\n",
            "23/23 [==============================] - 0s 1ms/step - loss: 162.3625\n",
            "Epoch 42/50\n",
            "23/23 [==============================] - 0s 1ms/step - loss: 173.9208\n",
            "Epoch 43/50\n",
            "23/23 [==============================] - 0s 1ms/step - loss: 166.1236\n",
            "Epoch 44/50\n",
            "23/23 [==============================] - 0s 1ms/step - loss: 176.9941\n",
            "Epoch 45/50\n",
            "23/23 [==============================] - 0s 1ms/step - loss: 164.2032\n",
            "Epoch 46/50\n",
            "23/23 [==============================] - 0s 1ms/step - loss: 166.8539\n",
            "Epoch 47/50\n",
            "23/23 [==============================] - 0s 1ms/step - loss: 163.8844\n",
            "Epoch 48/50\n",
            "23/23 [==============================] - 0s 1ms/step - loss: 158.8681\n",
            "Epoch 49/50\n",
            "23/23 [==============================] - 0s 1ms/step - loss: 155.1424\n",
            "Epoch 50/50\n",
            "23/23 [==============================] - 0s 1ms/step - loss: 155.7667\n"
          ],
          "name": "stdout"
        },
        {
          "output_type": "execute_result",
          "data": {
            "text/plain": [
              "<tensorflow.python.keras.callbacks.History at 0x7f6d12cce208>"
            ]
          },
          "metadata": {
            "tags": []
          },
          "execution_count": 13
        }
      ]
    },
    {
      "cell_type": "markdown",
      "metadata": {
        "id": "IWZTCJgYDejY"
      },
      "source": [
        "#### 3. Evaluate the model on the test data and compute the mean squared error between the predicted concrete strength and the actual concrete strength, using the mean_squared_error function from scikit-learn."
      ]
    },
    {
      "cell_type": "code",
      "metadata": {
        "id": "Rmtgyrmj-pqK",
        "outputId": "4e3bff5d-1512-44f6-ba1a-72f3d2f925be",
        "colab": {
          "base_uri": "https://localhost:8080/"
        }
      },
      "source": [
        "model.evaluate(Xtest, ytest)\r\n",
        "ypred = model.predict(Xtest)"
      ],
      "execution_count": 14,
      "outputs": [
        {
          "output_type": "stream",
          "text": [
            "10/10 [==============================] - 0s 2ms/step - loss: 186.7337\n"
          ],
          "name": "stdout"
        }
      ]
    },
    {
      "cell_type": "code",
      "metadata": {
        "id": "Abt0CkzRDejY"
      },
      "source": [
        "from sklearn.metrics import mean_squared_error"
      ],
      "execution_count": 15,
      "outputs": []
    },
    {
      "cell_type": "code",
      "metadata": {
        "colab": {
          "base_uri": "https://localhost:8080/"
        },
        "id": "e7BSL6mFDejY",
        "outputId": "3c56acb3-ce6b-457c-ac6f-539f459cec1b"
      },
      "source": [
        "MSE = mean_squared_error (ytest, ypred)\n",
        "print (\"Part A: MSE between predicted and actual concrete strength: \", MSE)\n",
        "print (\"Part A: Mean of MSE: \", MSE.mean())\n",
        "print (\"Part A: Standard Deviation of MSE: \", MSE.std())"
      ],
      "execution_count": 16,
      "outputs": [
        {
          "output_type": "stream",
          "text": [
            "Part A: MSE between predicted and actual concrete strength:  186.7337131315141\n",
            "Part A: Mean of MSE:  186.7337131315141\n",
            "Part A: Standard Deviation of MSE:  0.0\n"
          ],
          "name": "stdout"
        }
      ]
    },
    {
      "cell_type": "markdown",
      "metadata": {
        "id": "JSSoEuYBDejZ"
      },
      "source": [
        "#### 4. Repeat steps 1 - 3, 50 times, i.e., create a list of 50 mean squared errors"
      ]
    },
    {
      "cell_type": "code",
      "metadata": {
        "colab": {
          "base_uri": "https://localhost:8080/"
        },
        "id": "qkV-pXCFDejZ",
        "outputId": "458b9fc7-f4f9-4bf2-9bf2-9c1b32472f41"
      },
      "source": [
        "MSE = np.empty(50)\n",
        "for i in range(0, 50):\n",
        "    Xtrain, Xtest, ytrain, ytest = train_test_split(predictors, target, test_size=0.3)\n",
        "    model.fit(Xtrain, ytrain, epochs=50, verbose=0)\n",
        "    model.evaluate(Xtest, ytest, verbose=0)\n",
        "    MSE[i] = mean_squared_error (ytest, model.predict(Xtest))\n",
        "\n",
        "print (\"Part A: List of Mean Squared Errors: \", MSE)"
      ],
      "execution_count": 17,
      "outputs": [
        {
          "output_type": "stream",
          "text": [
            "Part A: List of Mean Squared Errors:  [114.33344476 114.14777291 114.59100549 109.46981283 116.87766389\n",
            " 121.58588691  96.5028271   99.04617639 118.54645696 102.68698379\n",
            "  98.34339696 132.01336206 101.21486464 115.44651482 100.36476637\n",
            " 114.38162294 105.41999222 102.79106567 116.62029787 113.88961578\n",
            " 112.79021644 121.20319916 106.58513988 108.45108361 106.92059388\n",
            " 103.15528988 114.09598156 104.74677739 119.03940636 104.21315859\n",
            " 110.997756   113.65564806 105.31130776 108.40232174 107.23166329\n",
            " 105.37824324 114.63211689 125.13753353 107.72651328 105.06445419\n",
            " 131.01658442 116.30531882 101.78141039 100.32873688 116.09938977\n",
            " 119.02049294 108.90269923 108.65728989 117.97887273 103.59229446]\n"
          ],
          "name": "stdout"
        }
      ]
    },
    {
      "cell_type": "markdown",
      "metadata": {
        "id": "5bTF_xLnDejZ"
      },
      "source": [
        "#### 5. Report the mean and the standard deviation of the mean squared errors."
      ]
    },
    {
      "cell_type": "code",
      "metadata": {
        "colab": {
          "base_uri": "https://localhost:8080/"
        },
        "id": "AwyXn4CbDejZ",
        "outputId": "758a0be2-d97e-4d95-9397-fb4bd67f426d"
      },
      "source": [
        "MSE_mean = MSE.mean()\n",
        "MSE_std = MSE.std()\n",
        "\n",
        "print (\"Part A: Mean of the 50 Mean Squared Errors: \", MSE_mean)\n",
        "print (\"Part A: Standard Deviation of the 50 Mean Squared Errors: \", MSE_std)"
      ],
      "execution_count": 18,
      "outputs": [
        {
          "output_type": "stream",
          "text": [
            "Part A: Mean of the 50 Mean Squared Errors:  110.73390049278207\n",
            "Part A: Standard Deviation of the 50 Mean Squared Errors:  7.990016934860439\n"
          ],
          "name": "stdout"
        }
      ]
    },
    {
      "cell_type": "markdown",
      "metadata": {
        "id": "6rENDL12DejZ"
      },
      "source": [
        "## B. Normalize the data\n",
        "\n",
        "Repeating Part A using a normalized version of the data\n",
        "\n",
        "Q) How does the mean of the mean squared errors compare to that from Step A?\n"
      ]
    },
    {
      "cell_type": "markdown",
      "metadata": {
        "id": "TNeBU4cHDejZ"
      },
      "source": [
        "#### Normalize the data by substracting the mean from the individual predictors and dividing by the standard deviation."
      ]
    },
    {
      "cell_type": "code",
      "metadata": {
        "colab": {
          "base_uri": "https://localhost:8080/",
          "height": 195
        },
        "id": "wW78rIHiDeja",
        "outputId": "094467d6-0d28-4a87-da9f-5b601ec540ed"
      },
      "source": [
        "predictors_norm = (predictors - predictors.mean()) / predictors.std()\n",
        "predictors_norm.head()"
      ],
      "execution_count": 19,
      "outputs": [
        {
          "output_type": "execute_result",
          "data": {
            "text/html": [
              "<div>\n",
              "<style scoped>\n",
              "    .dataframe tbody tr th:only-of-type {\n",
              "        vertical-align: middle;\n",
              "    }\n",
              "\n",
              "    .dataframe tbody tr th {\n",
              "        vertical-align: top;\n",
              "    }\n",
              "\n",
              "    .dataframe thead th {\n",
              "        text-align: right;\n",
              "    }\n",
              "</style>\n",
              "<table border=\"1\" class=\"dataframe\">\n",
              "  <thead>\n",
              "    <tr style=\"text-align: right;\">\n",
              "      <th></th>\n",
              "      <th>Cement</th>\n",
              "      <th>Blast Furnace Slag</th>\n",
              "      <th>Fly Ash</th>\n",
              "      <th>Water</th>\n",
              "      <th>Superplasticizer</th>\n",
              "      <th>Coarse Aggregate</th>\n",
              "      <th>Fine Aggregate</th>\n",
              "      <th>Age</th>\n",
              "    </tr>\n",
              "  </thead>\n",
              "  <tbody>\n",
              "    <tr>\n",
              "      <th>0</th>\n",
              "      <td>2.476712</td>\n",
              "      <td>-0.856472</td>\n",
              "      <td>-0.846733</td>\n",
              "      <td>-0.916319</td>\n",
              "      <td>-0.620147</td>\n",
              "      <td>0.862735</td>\n",
              "      <td>-1.217079</td>\n",
              "      <td>-0.279597</td>\n",
              "    </tr>\n",
              "    <tr>\n",
              "      <th>1</th>\n",
              "      <td>2.476712</td>\n",
              "      <td>-0.856472</td>\n",
              "      <td>-0.846733</td>\n",
              "      <td>-0.916319</td>\n",
              "      <td>-0.620147</td>\n",
              "      <td>1.055651</td>\n",
              "      <td>-1.217079</td>\n",
              "      <td>-0.279597</td>\n",
              "    </tr>\n",
              "    <tr>\n",
              "      <th>2</th>\n",
              "      <td>0.491187</td>\n",
              "      <td>0.795140</td>\n",
              "      <td>-0.846733</td>\n",
              "      <td>2.174405</td>\n",
              "      <td>-1.038638</td>\n",
              "      <td>-0.526262</td>\n",
              "      <td>-2.239829</td>\n",
              "      <td>3.551340</td>\n",
              "    </tr>\n",
              "    <tr>\n",
              "      <th>3</th>\n",
              "      <td>0.491187</td>\n",
              "      <td>0.795140</td>\n",
              "      <td>-0.846733</td>\n",
              "      <td>2.174405</td>\n",
              "      <td>-1.038638</td>\n",
              "      <td>-0.526262</td>\n",
              "      <td>-2.239829</td>\n",
              "      <td>5.055221</td>\n",
              "    </tr>\n",
              "    <tr>\n",
              "      <th>4</th>\n",
              "      <td>-0.790075</td>\n",
              "      <td>0.678079</td>\n",
              "      <td>-0.846733</td>\n",
              "      <td>0.488555</td>\n",
              "      <td>-1.038638</td>\n",
              "      <td>0.070492</td>\n",
              "      <td>0.647569</td>\n",
              "      <td>4.976069</td>\n",
              "    </tr>\n",
              "  </tbody>\n",
              "</table>\n",
              "</div>"
            ],
            "text/plain": [
              "     Cement  Blast Furnace Slag  ...  Fine Aggregate       Age\n",
              "0  2.476712           -0.856472  ...       -1.217079 -0.279597\n",
              "1  2.476712           -0.856472  ...       -1.217079 -0.279597\n",
              "2  0.491187            0.795140  ...       -2.239829  3.551340\n",
              "3  0.491187            0.795140  ...       -2.239829  5.055221\n",
              "4 -0.790075            0.678079  ...        0.647569  4.976069\n",
              "\n",
              "[5 rows x 8 columns]"
            ]
          },
          "metadata": {
            "tags": []
          },
          "execution_count": 19
        }
      ]
    },
    {
      "cell_type": "code",
      "metadata": {
        "id": "2KiN7BlADeja"
      },
      "source": [
        "n_cols = predictors_norm.shape[1] # number of predictors"
      ],
      "execution_count": 20,
      "outputs": []
    },
    {
      "cell_type": "markdown",
      "metadata": {
        "id": "urVtYLldDeja"
      },
      "source": [
        "#### Build the model for Part B using normalized data"
      ]
    },
    {
      "cell_type": "code",
      "metadata": {
        "id": "94942NwZMkQP"
      },
      "source": [
        "model = regression_model()"
      ],
      "execution_count": 21,
      "outputs": []
    },
    {
      "cell_type": "markdown",
      "metadata": {
        "id": "PLYFCqlqDejb"
      },
      "source": [
        "#### Repeat steps in Part A to create a list of 50 mean squared errors (using normalized data model)"
      ]
    },
    {
      "cell_type": "code",
      "metadata": {
        "colab": {
          "base_uri": "https://localhost:8080/"
        },
        "id": "YcCitR5vDejb",
        "outputId": "ef8d5a71-b330-4f2f-9f9b-3d25113cbb3f"
      },
      "source": [
        "MSE = np.empty(50)\n",
        "for i in range(0, 50):\n",
        "    Xtrain, Xtest, ytrain, ytest = train_test_split(predictors_norm, target, test_size=0.3)\n",
        "    model.fit(Xtrain, ytrain, epochs=50, verbose=0)\n",
        "    model.evaluate(Xtest, ytest, verbose=0)\n",
        "    MSE[i] = mean_squared_error (ytest, model.predict(Xtest))\n",
        "    \n",
        "print (\"Part B: List of Mean Squared Errors: \", MSE)"
      ],
      "execution_count": 22,
      "outputs": [
        {
          "output_type": "stream",
          "text": [
            "Part B: List of Mean Squared Errors:  [335.16601754 164.4065708  109.10961777  92.60421439  75.73026168\n",
            "  62.87715279  51.66579766  57.69869275  46.57561286  44.76744054\n",
            "  43.52966197  40.70602564  47.72046752  39.63163973  43.6019422\n",
            "  40.27716873  39.60446266  37.17717656  35.98524049  39.84953993\n",
            "  36.68459025  36.72232214  37.2800111   36.91935267  34.81939211\n",
            "  38.15697477  33.79150147  37.63538207  39.24147501  35.4859834\n",
            "  37.62477986  34.14268836  34.82477785  39.56784215  39.19330583\n",
            "  39.96070138  33.61883541  31.51946425  32.21166128  35.7402847\n",
            "  37.2551656   31.96667489  39.57895787  29.53174818  37.78674783\n",
            "  37.09662492  31.76475727  28.81488299  32.56886789  34.22736348]\n"
          ],
          "name": "stdout"
        }
      ]
    },
    {
      "cell_type": "markdown",
      "metadata": {
        "id": "oyyjw98bDejb"
      },
      "source": [
        "#### Calculating mean and standard deviation for Part B"
      ]
    },
    {
      "cell_type": "code",
      "metadata": {
        "colab": {
          "base_uri": "https://localhost:8080/"
        },
        "id": "4CoJ1MAEDejb",
        "outputId": "0a5181f3-c736-43af-c10a-6d737917ea5a"
      },
      "source": [
        "MSE_mean = MSE.mean()\n",
        "MSE_std = MSE.std()\n",
        "\n",
        "print (\"Part B: Mean of the Mean Squared Errors: \", MSE_mean)\n",
        "print (\"Part B: Standard Deviation of the Mean Squared Errors: \", MSE_std)"
      ],
      "execution_count": 23,
      "outputs": [
        {
          "output_type": "stream",
          "text": [
            "Part B: Mean of the Mean Squared Errors:  50.28835642381871\n",
            "Part B: Standard Deviation of the Mean Squared Errors:  46.50714455599244\n"
          ],
          "name": "stdout"
        }
      ]
    },
    {
      "cell_type": "markdown",
      "metadata": {
        "id": "oAoG9-PaHeJ5"
      },
      "source": [
        "Q) How does the mean of the mean squared errors compare to that from Step A?\r\n",
        "\r\n",
        "A) Based on the results of Part A and Part B, the following can be observed:\r\n",
        "\r\n",
        "> Part A: Mean of MSE = 110.733 & Std Dev of MSE  = 7.990\r\n",
        "\r\n",
        "> Part B: Mean of MSE = 50.288 & Std Dev of MSE = 46.507\r\n",
        "\r\n",
        "**As seen from the above results, the Mean of MSE for Part B is better than that of Part A.**\r\n"
      ]
    },
    {
      "cell_type": "markdown",
      "metadata": {
        "id": "-8PJ-mqSDejb"
      },
      "source": [
        "## C. Increase the number of epochs\n",
        "\n",
        "Repeat Part B using 100 epochs this time for training.\n",
        "\n",
        "Q) How does the mean of the mean squared errors compare to that from Step B?"
      ]
    },
    {
      "cell_type": "markdown",
      "metadata": {
        "id": "IVA6WNQ2Dejb"
      },
      "source": [
        "#### Repeating steps in Part B using 100 epochs for training"
      ]
    },
    {
      "cell_type": "markdown",
      "metadata": {
        "id": "IkTKj4zaDejb"
      },
      "source": [
        "#### Build the model for Part C"
      ]
    },
    {
      "cell_type": "code",
      "metadata": {
        "id": "yNDfilWEOEJS"
      },
      "source": [
        "model = regression_model()"
      ],
      "execution_count": 24,
      "outputs": []
    },
    {
      "cell_type": "code",
      "metadata": {
        "colab": {
          "base_uri": "https://localhost:8080/"
        },
        "id": "DzA7FhSlDejc",
        "outputId": "902a167d-338f-4c5d-e64d-4e500a98a771"
      },
      "source": [
        "MSE = np.empty(50)\n",
        "for i in range(0, 50):\n",
        "    Xtrain, Xtest, ytrain, ytest = train_test_split(predictors_norm, target, test_size=0.3)\n",
        "    model.fit(Xtrain, ytrain, epochs=100, verbose=0)\n",
        "    model.evaluate(Xtest, ytest, verbose=0)\n",
        "    MSE[i] = mean_squared_error (ytest, model.predict(Xtest))\n",
        "    \n",
        "print (\"Part C: List of Mean Squared Errors: \", MSE)"
      ],
      "execution_count": 25,
      "outputs": [
        {
          "output_type": "stream",
          "text": [
            "Part C: List of Mean Squared Errors:  [170.00017807  80.58591008  49.4981608   43.79580085  47.17233965\n",
            "  37.94740124  35.11461423  36.50047266  35.49220912  38.53308485\n",
            "  36.63699636  33.93757548  33.72578776  34.22623833  32.18227712\n",
            "  33.31111364  31.06219919  31.06835568  33.02338326  26.76760629\n",
            "  32.94710013  29.79052488  31.25973635  31.75470148  27.90326989\n",
            "  32.41993981  28.40902302  32.18048273  25.76467962  27.68071382\n",
            "  31.93056023  29.58299464  30.18173972  30.70254349  31.49813424\n",
            "  29.60964349  24.68424734  28.15757718  29.80890607  27.61901618\n",
            "  31.47085596  30.83555644  23.97563812  32.34251472  30.90511613\n",
            "  34.50074698  30.21981503  25.29666691  29.4055441   29.49633449]\n"
          ],
          "name": "stdout"
        }
      ]
    },
    {
      "cell_type": "markdown",
      "metadata": {
        "id": "djaPTGgZDejc"
      },
      "source": [
        "#### Calculating mean and standard deviation for Part C"
      ]
    },
    {
      "cell_type": "code",
      "metadata": {
        "colab": {
          "base_uri": "https://localhost:8080/"
        },
        "id": "oIv7PSa_Dejc",
        "outputId": "1a994eba-1f01-4d48-afa8-878f75ee0b66"
      },
      "source": [
        "MSE_mean = MSE.mean()\n",
        "MSE_std = MSE.std()\n",
        "\n",
        "print (\"Part C: Mean of the Mean Squared Errors: \", MSE_mean)\n",
        "print (\"Part C: Standard Deviation of the Mean Squared Errors: \", MSE_std)"
      ],
      "execution_count": 26,
      "outputs": [
        {
          "output_type": "stream",
          "text": [
            "Part C: Mean of the Mean Squared Errors:  35.858320557204586\n",
            "Part C: Standard Deviation of the Mean Squared Errors:  20.908726583388717\n"
          ],
          "name": "stdout"
        }
      ]
    },
    {
      "cell_type": "markdown",
      "metadata": {
        "id": "yk2mPE-UIXcV"
      },
      "source": [
        "Q) How does the mean of the mean squared errors compare to that from Step B?\r\n",
        "\r\n",
        "A) Based on the results of Part B and Part C, the following can be observed:\r\n",
        "\r\n",
        "> Part B: Mean of MSE = 50.288 & Std Dev of MSE = 46.507\r\n",
        "\r\n",
        "> Part C: Mean of MSE = 35.858 & Std Dev of MSE = 20.908\r\n",
        "\r\n",
        "As seen from the above results, the Mean of MSE for Part C is better than that of Part B."
      ]
    },
    {
      "cell_type": "markdown",
      "metadata": {
        "id": "N6QmUsaxDejc"
      },
      "source": [
        "## D. Increase the number of hidden layers\n",
        "\n",
        "Repeat part B using a neural network with the following:\n",
        "\n",
        "- Three hidden layers, each of 10 nodes and ReLU activation function.\n",
        "\n",
        "Q) How does the mean of the mean squared errors compare to that from Step B?"
      ]
    },
    {
      "cell_type": "markdown",
      "metadata": {
        "id": "Di8mR6YfDejc"
      },
      "source": [
        "#### Define regression model with 3 hidden layers, each of 10 nodes and ReLU activation functions\n"
      ]
    },
    {
      "cell_type": "code",
      "metadata": {
        "id": "AT3zYcRpEhNe"
      },
      "source": [
        "def regression_model():\r\n",
        "    # create model\r\n",
        "    model = Sequential()\r\n",
        "    model.add(Dense(10, activation='relu', input_shape=(n_cols,)))\r\n",
        "    model.add(Dense(10, activation='relu'))\r\n",
        "    model.add(Dense(10, activation='relu'))\r\n",
        "    model.add(Dense(1))\r\n",
        "    # compile model\r\n",
        "    model.compile(optimizer='adam', loss='mean_squared_error')\r\n",
        "    return model"
      ],
      "execution_count": 27,
      "outputs": []
    },
    {
      "cell_type": "markdown",
      "metadata": {
        "id": "r3haFbGqDejc"
      },
      "source": [
        "#### Build the model for Part D\n"
      ]
    },
    {
      "cell_type": "code",
      "metadata": {
        "id": "wP2_P2R2QQkO"
      },
      "source": [
        "model = regression_model()"
      ],
      "execution_count": 28,
      "outputs": []
    },
    {
      "cell_type": "markdown",
      "metadata": {
        "id": "LrAufsghDejc"
      },
      "source": [
        "#### Repeating steps in Part B using 50 epochs for training the neural network of Part D"
      ]
    },
    {
      "cell_type": "code",
      "metadata": {
        "colab": {
          "base_uri": "https://localhost:8080/"
        },
        "id": "qpNxv5hpDejd",
        "outputId": "7d538ae4-9e5d-4f55-d217-06a630838e6f"
      },
      "source": [
        "MSE = np.empty(50)\n",
        "for i in range(0, 50):\n",
        "    Xtrain, Xtest, ytrain, ytest = train_test_split(predictors_norm, target, test_size=0.3)\n",
        "    model.fit(Xtrain, ytrain, epochs=50, verbose=0)\n",
        "    model.evaluate(Xtest, ytest, verbose=0)\n",
        "    MSE[i] = mean_squared_error (ytest, model.predict(Xtest))\n",
        "    \n",
        "print (\"Part D: List of Mean Squared Errors: \", MSE)"
      ],
      "execution_count": 29,
      "outputs": [
        {
          "output_type": "stream",
          "text": [
            "Part D: List of Mean Squared Errors:  [125.99988435 116.78274604  93.98618267  74.36750922  55.97103409\n",
            "  54.31866158  50.67216488  33.68769538  41.87529467  39.07856144\n",
            "  42.63722795  31.79828134  35.447057    35.88231261  31.51626836\n",
            "  28.70474366  39.30676608  28.04685344  28.66927502  30.27305184\n",
            "  28.47783996  30.16737289  27.00416673  31.68935687  32.77580913\n",
            "  22.70758444  26.53351517  21.0076048   27.54079018  26.45157084\n",
            "  22.98750089  26.40317653  25.71459852  24.38551544  26.20387161\n",
            "  28.14270092  24.96985376  27.33344295  25.82989653  20.79056899\n",
            "  23.38863548  20.78390811  22.76515278  25.94880683  23.68372962\n",
            "  23.66238265  23.15872589  19.8328555   20.8388503   22.81868064]\n"
          ],
          "name": "stdout"
        }
      ]
    },
    {
      "cell_type": "markdown",
      "metadata": {
        "id": "RKWAbIqPDejd"
      },
      "source": [
        "#### Calculating mean and standard deviation for Part D"
      ]
    },
    {
      "cell_type": "code",
      "metadata": {
        "colab": {
          "base_uri": "https://localhost:8080/"
        },
        "id": "hGxesuTGDejd",
        "outputId": "3bcbde31-398d-4d55-a355-fb9ec11d772e"
      },
      "source": [
        "MSE_mean = MSE.mean()\n",
        "MSE_std = MSE.std()\n",
        "\n",
        "print (\"Part D: Mean of the Mean Squared Errors: \", MSE_mean)\n",
        "print (\"Part D: Standard Deviation of the Mean Squared Errors: \", MSE_std)"
      ],
      "execution_count": 30,
      "outputs": [
        {
          "output_type": "stream",
          "text": [
            "Part D: Mean of the Mean Squared Errors:  35.46040073114769\n",
            "Part D: Standard Deviation of the Mean Squared Errors:  22.175233527120138\n"
          ],
          "name": "stdout"
        }
      ]
    },
    {
      "cell_type": "markdown",
      "metadata": {
        "id": "Oi7PLXJ0JYXu"
      },
      "source": [
        "Q) How does the mean of the mean squared errors compare to that from Step B?\r\n",
        "\r\n",
        "A) Based on the results of Part B and Part D, the following can be observed:\r\n",
        "\r\n",
        "> Part B: Mean of MSE = 50.288 & Std Dev od MSE = 46.507\r\n",
        "\r\n",
        "> Part D: Mean of MSE = 35.460 & Std Dev of MSE = 22.175\r\n",
        "\r\n",
        "As seen from the above results, the Mean of MSE for Part D is better than that of Part B, which can be attributed to the addition of another hidden layer to the neural network."
      ]
    }
  ]
}