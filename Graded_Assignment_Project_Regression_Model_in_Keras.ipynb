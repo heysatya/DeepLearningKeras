{
  "nbformat": 4,
  "nbformat_minor": 0,
  "metadata": {
    "kernelspec": {
      "display_name": "Python",
      "language": "python",
      "name": "conda-env-python-py"
    },
    "language_info": {
      "codemirror_mode": {
        "name": "ipython",
        "version": 3
      },
      "file_extension": ".py",
      "mimetype": "text/x-python",
      "name": "python",
      "nbconvert_exporter": "python",
      "pygments_lexer": "ipython3",
      "version": "3.6.12"
    },
    "colab": {
      "name": "Graded Assignment Project - Regression Model in Keras.ipynb",
      "provenance": [],
      "include_colab_link": true
    }
  },
  "cells": [
    {
      "cell_type": "markdown",
      "metadata": {
        "id": "view-in-github",
        "colab_type": "text"
      },
      "source": [
        "<a href=\"https://colab.research.google.com/github/heysatya/DeepLearningKeras/blob/main/Graded_Assignment_Project_Regression_Model_in_Keras.ipynb\" target=\"_parent\"><img src=\"https://colab.research.google.com/assets/colab-badge.svg\" alt=\"Open In Colab\"/></a>"
      ]
    },
    {
      "cell_type": "markdown",
      "metadata": {
        "button": false,
        "deletable": true,
        "new_sheet": false,
        "run_control": {
          "read_only": false
        },
        "id": "BCBszn2RDejJ"
      },
      "source": [
        "<h1 align=center><font size = 5>Graded Assignment Project - Regression Model in Keras</font></h1>\n"
      ]
    },
    {
      "cell_type": "markdown",
      "metadata": {
        "button": false,
        "deletable": true,
        "new_sheet": false,
        "run_control": {
          "read_only": false
        },
        "id": "10MHtD5VDejP"
      },
      "source": [
        "## Introduction\n"
      ]
    },
    {
      "cell_type": "markdown",
      "metadata": {
        "button": false,
        "deletable": true,
        "new_sheet": false,
        "run_control": {
          "read_only": false
        },
        "id": "a9G297OjDejQ"
      },
      "source": [
        "In this course project, I will build a regression model using the deep learning Keras library, and then experiment with increasing the number of training epochs and changing number of hidden layers to find out how changing these parameters impacts the performance of the model.\n"
      ]
    },
    {
      "cell_type": "markdown",
      "metadata": {
        "id": "7G3rfIS1DejQ"
      },
      "source": [
        "<h4>Objective for this Assignment<h4>    \n",
        "<h5> A. Build a baseline model </h5>\n",
        "<h5> B. Normalize the data </h5>\n",
        "<h5> C. Increase the number of epochs </h5>\n",
        "<h5> D. Increase the number of hidden layers </h5>   \n"
      ]
    },
    {
      "cell_type": "markdown",
      "metadata": {
        "button": false,
        "deletable": true,
        "new_sheet": false,
        "run_control": {
          "read_only": false
        },
        "id": "0hg8E-RKDejR"
      },
      "source": [
        "## Table of Contents\n",
        "\n",
        "<div class=\"alert alert-block alert-info\" style=\"margin-top: 20px\">\n",
        "\n",
        "<font size = 3>\n",
        "    \n",
        "<a href=\"#item31\">A. Build a baseline model</a>  \n",
        "<a href=\"#item32\">B. Normalize the data</a>  \n",
        "<a href=\"#item33\">C. Increase the number of epochs </a>  \n",
        "<a href=\"#item34\">D. Increase the number of hidden layers </a>  \n",
        "\n",
        "</font>\n",
        "</div>\n"
      ]
    },
    {
      "cell_type": "markdown",
      "metadata": {
        "button": false,
        "deletable": true,
        "new_sheet": false,
        "run_control": {
          "read_only": false
        },
        "id": "2ZM5LngkDejR"
      },
      "source": [
        "<a id=\"item31\"></a>\n"
      ]
    },
    {
      "cell_type": "markdown",
      "metadata": {
        "button": false,
        "deletable": true,
        "new_sheet": false,
        "run_control": {
          "read_only": false
        },
        "id": "xsWQTHpfDejR"
      },
      "source": [
        "## A. Build a baseline model\n",
        "\n",
        "In this first step, we will use the Keras library to build a neural network with the following:\n",
        "- One hidden layer of 10 nodes, and a ReLU activation function\n",
        "- Use the adam optimizer and the mean squared error  as the loss function.\n"
      ]
    },
    {
      "cell_type": "markdown",
      "metadata": {
        "button": false,
        "deletable": true,
        "new_sheet": false,
        "run_control": {
          "read_only": false
        },
        "id": "KvDZ-7p1DejS"
      },
      "source": [
        "#### Import the Pandas and the Numpy libraries.\n"
      ]
    },
    {
      "cell_type": "code",
      "metadata": {
        "button": false,
        "deletable": true,
        "new_sheet": false,
        "run_control": {
          "read_only": false
        },
        "id": "kbtsapNNDejS"
      },
      "source": [
        "import pandas as pd\n",
        "import numpy as np"
      ],
      "execution_count": 1,
      "outputs": []
    },
    {
      "cell_type": "markdown",
      "metadata": {
        "button": false,
        "deletable": true,
        "new_sheet": false,
        "run_control": {
          "read_only": false
        },
        "id": "NWJvNhucDejS"
      },
      "source": [
        "The dataset is about the compressive strength of different samples of concrete based on the volumes of the different ingredients that were used to make them. \n",
        "    \n",
        "The data has been downloaded from: https://cocl.us/concrete_data.\n",
        "    \n",
        "The predictors in the data of concrete strength include include:\n",
        "1. Cement\n",
        "2. Blast Furnace Slag\n",
        "3. Fly Ash\n",
        "4. Water\n",
        "5. Superplasticizer\n",
        "6. Coarse Aggregate\n",
        "7. Fine Aggregate\n"
      ]
    },
    {
      "cell_type": "markdown",
      "metadata": {
        "button": false,
        "deletable": true,
        "new_sheet": false,
        "run_control": {
          "read_only": false
        },
        "id": "ja8tnjmqDejT"
      },
      "source": [
        "#### Read the data into a Pandas dataframe.\n"
      ]
    },
    {
      "cell_type": "code",
      "metadata": {
        "button": false,
        "deletable": true,
        "new_sheet": false,
        "run_control": {
          "read_only": false
        },
        "colab": {
          "base_uri": "https://localhost:8080/",
          "height": 195
        },
        "id": "wIpglEEjDejT",
        "outputId": "5bca9d45-b2bd-4acc-e487-e4825af97f6b"
      },
      "source": [
        "concrete_data = pd.read_csv('https://cocl.us/concrete_data')\n",
        "concrete_data.head()"
      ],
      "execution_count": 2,
      "outputs": [
        {
          "output_type": "execute_result",
          "data": {
            "text/html": [
              "<div>\n",
              "<style scoped>\n",
              "    .dataframe tbody tr th:only-of-type {\n",
              "        vertical-align: middle;\n",
              "    }\n",
              "\n",
              "    .dataframe tbody tr th {\n",
              "        vertical-align: top;\n",
              "    }\n",
              "\n",
              "    .dataframe thead th {\n",
              "        text-align: right;\n",
              "    }\n",
              "</style>\n",
              "<table border=\"1\" class=\"dataframe\">\n",
              "  <thead>\n",
              "    <tr style=\"text-align: right;\">\n",
              "      <th></th>\n",
              "      <th>Cement</th>\n",
              "      <th>Blast Furnace Slag</th>\n",
              "      <th>Fly Ash</th>\n",
              "      <th>Water</th>\n",
              "      <th>Superplasticizer</th>\n",
              "      <th>Coarse Aggregate</th>\n",
              "      <th>Fine Aggregate</th>\n",
              "      <th>Age</th>\n",
              "      <th>Strength</th>\n",
              "    </tr>\n",
              "  </thead>\n",
              "  <tbody>\n",
              "    <tr>\n",
              "      <th>0</th>\n",
              "      <td>540.0</td>\n",
              "      <td>0.0</td>\n",
              "      <td>0.0</td>\n",
              "      <td>162.0</td>\n",
              "      <td>2.5</td>\n",
              "      <td>1040.0</td>\n",
              "      <td>676.0</td>\n",
              "      <td>28</td>\n",
              "      <td>79.99</td>\n",
              "    </tr>\n",
              "    <tr>\n",
              "      <th>1</th>\n",
              "      <td>540.0</td>\n",
              "      <td>0.0</td>\n",
              "      <td>0.0</td>\n",
              "      <td>162.0</td>\n",
              "      <td>2.5</td>\n",
              "      <td>1055.0</td>\n",
              "      <td>676.0</td>\n",
              "      <td>28</td>\n",
              "      <td>61.89</td>\n",
              "    </tr>\n",
              "    <tr>\n",
              "      <th>2</th>\n",
              "      <td>332.5</td>\n",
              "      <td>142.5</td>\n",
              "      <td>0.0</td>\n",
              "      <td>228.0</td>\n",
              "      <td>0.0</td>\n",
              "      <td>932.0</td>\n",
              "      <td>594.0</td>\n",
              "      <td>270</td>\n",
              "      <td>40.27</td>\n",
              "    </tr>\n",
              "    <tr>\n",
              "      <th>3</th>\n",
              "      <td>332.5</td>\n",
              "      <td>142.5</td>\n",
              "      <td>0.0</td>\n",
              "      <td>228.0</td>\n",
              "      <td>0.0</td>\n",
              "      <td>932.0</td>\n",
              "      <td>594.0</td>\n",
              "      <td>365</td>\n",
              "      <td>41.05</td>\n",
              "    </tr>\n",
              "    <tr>\n",
              "      <th>4</th>\n",
              "      <td>198.6</td>\n",
              "      <td>132.4</td>\n",
              "      <td>0.0</td>\n",
              "      <td>192.0</td>\n",
              "      <td>0.0</td>\n",
              "      <td>978.4</td>\n",
              "      <td>825.5</td>\n",
              "      <td>360</td>\n",
              "      <td>44.30</td>\n",
              "    </tr>\n",
              "  </tbody>\n",
              "</table>\n",
              "</div>"
            ],
            "text/plain": [
              "   Cement  Blast Furnace Slag  Fly Ash  ...  Fine Aggregate  Age  Strength\n",
              "0   540.0                 0.0      0.0  ...           676.0   28     79.99\n",
              "1   540.0                 0.0      0.0  ...           676.0   28     61.89\n",
              "2   332.5               142.5      0.0  ...           594.0  270     40.27\n",
              "3   332.5               142.5      0.0  ...           594.0  365     41.05\n",
              "4   198.6               132.4      0.0  ...           825.5  360     44.30\n",
              "\n",
              "[5 rows x 9 columns]"
            ]
          },
          "metadata": {
            "tags": []
          },
          "execution_count": 2
        }
      ]
    },
    {
      "cell_type": "markdown",
      "metadata": {
        "button": false,
        "deletable": true,
        "new_sheet": false,
        "run_control": {
          "read_only": false
        },
        "id": "8VDkcP42DejU"
      },
      "source": [
        "As can be seen from the data, the first concrete sample has 540 cubic meter of cement, 0 cubic meter of blast furnace slag, 0 cubic meter of fly ash, 162 cubic meter of water, 2.5 cubic meter of superplaticizer, 1040 cubic meter of coarse aggregate, 676 cubic meter of fine aggregate. This concrete mix is 28 days old and has a compressive strength of 79.99 MPa. \n"
      ]
    },
    {
      "cell_type": "markdown",
      "metadata": {
        "button": false,
        "deletable": true,
        "new_sheet": false,
        "run_control": {
          "read_only": false
        },
        "id": "yUJVzLH3DejU"
      },
      "source": [
        "#### Split data into predictors and target\n"
      ]
    },
    {
      "cell_type": "markdown",
      "metadata": {
        "id": "lc89xiB4DejU"
      },
      "source": [
        "The target variable in this case is the concrete sample strength. Therefore, all the columns will be considered as predictors.\n"
      ]
    },
    {
      "cell_type": "code",
      "metadata": {
        "button": false,
        "deletable": true,
        "new_sheet": false,
        "run_control": {
          "read_only": false
        },
        "id": "MVDVTqwUDejU"
      },
      "source": [
        "concrete_data_columns = concrete_data.columns\n",
        "\n",
        "predictors = concrete_data[concrete_data_columns[concrete_data_columns != 'Strength']] # all columns except Strength\n",
        "target = concrete_data['Strength'] # Strength column"
      ],
      "execution_count": 3,
      "outputs": []
    },
    {
      "cell_type": "markdown",
      "metadata": {
        "button": false,
        "deletable": true,
        "new_sheet": false,
        "run_control": {
          "read_only": false
        },
        "id": "YtHzMIdsDejV"
      },
      "source": [
        "<a id=\"item2\"></a>\n"
      ]
    },
    {
      "cell_type": "markdown",
      "metadata": {
        "button": false,
        "deletable": true,
        "new_sheet": false,
        "run_control": {
          "read_only": false
        },
        "id": "d8Ce6WoVDejV"
      },
      "source": [
        "#### Sanity check of the predictors and the target dataframes.\n"
      ]
    },
    {
      "cell_type": "code",
      "metadata": {
        "button": false,
        "deletable": true,
        "new_sheet": false,
        "run_control": {
          "read_only": false
        },
        "colab": {
          "base_uri": "https://localhost:8080/",
          "height": 195
        },
        "id": "POpuz1BcDejV",
        "outputId": "322cad30-5c4f-4595-8110-f38cc0df7d46"
      },
      "source": [
        "predictors.head()"
      ],
      "execution_count": 4,
      "outputs": [
        {
          "output_type": "execute_result",
          "data": {
            "text/html": [
              "<div>\n",
              "<style scoped>\n",
              "    .dataframe tbody tr th:only-of-type {\n",
              "        vertical-align: middle;\n",
              "    }\n",
              "\n",
              "    .dataframe tbody tr th {\n",
              "        vertical-align: top;\n",
              "    }\n",
              "\n",
              "    .dataframe thead th {\n",
              "        text-align: right;\n",
              "    }\n",
              "</style>\n",
              "<table border=\"1\" class=\"dataframe\">\n",
              "  <thead>\n",
              "    <tr style=\"text-align: right;\">\n",
              "      <th></th>\n",
              "      <th>Cement</th>\n",
              "      <th>Blast Furnace Slag</th>\n",
              "      <th>Fly Ash</th>\n",
              "      <th>Water</th>\n",
              "      <th>Superplasticizer</th>\n",
              "      <th>Coarse Aggregate</th>\n",
              "      <th>Fine Aggregate</th>\n",
              "      <th>Age</th>\n",
              "    </tr>\n",
              "  </thead>\n",
              "  <tbody>\n",
              "    <tr>\n",
              "      <th>0</th>\n",
              "      <td>540.0</td>\n",
              "      <td>0.0</td>\n",
              "      <td>0.0</td>\n",
              "      <td>162.0</td>\n",
              "      <td>2.5</td>\n",
              "      <td>1040.0</td>\n",
              "      <td>676.0</td>\n",
              "      <td>28</td>\n",
              "    </tr>\n",
              "    <tr>\n",
              "      <th>1</th>\n",
              "      <td>540.0</td>\n",
              "      <td>0.0</td>\n",
              "      <td>0.0</td>\n",
              "      <td>162.0</td>\n",
              "      <td>2.5</td>\n",
              "      <td>1055.0</td>\n",
              "      <td>676.0</td>\n",
              "      <td>28</td>\n",
              "    </tr>\n",
              "    <tr>\n",
              "      <th>2</th>\n",
              "      <td>332.5</td>\n",
              "      <td>142.5</td>\n",
              "      <td>0.0</td>\n",
              "      <td>228.0</td>\n",
              "      <td>0.0</td>\n",
              "      <td>932.0</td>\n",
              "      <td>594.0</td>\n",
              "      <td>270</td>\n",
              "    </tr>\n",
              "    <tr>\n",
              "      <th>3</th>\n",
              "      <td>332.5</td>\n",
              "      <td>142.5</td>\n",
              "      <td>0.0</td>\n",
              "      <td>228.0</td>\n",
              "      <td>0.0</td>\n",
              "      <td>932.0</td>\n",
              "      <td>594.0</td>\n",
              "      <td>365</td>\n",
              "    </tr>\n",
              "    <tr>\n",
              "      <th>4</th>\n",
              "      <td>198.6</td>\n",
              "      <td>132.4</td>\n",
              "      <td>0.0</td>\n",
              "      <td>192.0</td>\n",
              "      <td>0.0</td>\n",
              "      <td>978.4</td>\n",
              "      <td>825.5</td>\n",
              "      <td>360</td>\n",
              "    </tr>\n",
              "  </tbody>\n",
              "</table>\n",
              "</div>"
            ],
            "text/plain": [
              "   Cement  Blast Furnace Slag  Fly Ash  ...  Coarse Aggregate  Fine Aggregate  Age\n",
              "0   540.0                 0.0      0.0  ...            1040.0           676.0   28\n",
              "1   540.0                 0.0      0.0  ...            1055.0           676.0   28\n",
              "2   332.5               142.5      0.0  ...             932.0           594.0  270\n",
              "3   332.5               142.5      0.0  ...             932.0           594.0  365\n",
              "4   198.6               132.4      0.0  ...             978.4           825.5  360\n",
              "\n",
              "[5 rows x 8 columns]"
            ]
          },
          "metadata": {
            "tags": []
          },
          "execution_count": 4
        }
      ]
    },
    {
      "cell_type": "code",
      "metadata": {
        "button": false,
        "deletable": true,
        "new_sheet": false,
        "run_control": {
          "read_only": false
        },
        "colab": {
          "base_uri": "https://localhost:8080/"
        },
        "id": "F5OncetfDejV",
        "outputId": "b22c1e96-8caa-4356-ce38-687104dc8165"
      },
      "source": [
        "target.head()"
      ],
      "execution_count": 5,
      "outputs": [
        {
          "output_type": "execute_result",
          "data": {
            "text/plain": [
              "0    79.99\n",
              "1    61.89\n",
              "2    40.27\n",
              "3    41.05\n",
              "4    44.30\n",
              "Name: Strength, dtype: float64"
            ]
          },
          "metadata": {
            "tags": []
          },
          "execution_count": 5
        }
      ]
    },
    {
      "cell_type": "markdown",
      "metadata": {
        "id": "DTq0mfLMDejV"
      },
      "source": [
        "#### Save the number of predictors to _n_cols_ since we will need this number later on.\n"
      ]
    },
    {
      "cell_type": "code",
      "metadata": {
        "button": false,
        "deletable": true,
        "new_sheet": false,
        "run_control": {
          "read_only": false
        },
        "id": "dTgY8V63DejV"
      },
      "source": [
        "n_cols = predictors.shape[1] # number of predictors"
      ],
      "execution_count": 6,
      "outputs": []
    },
    {
      "cell_type": "markdown",
      "metadata": {
        "button": false,
        "deletable": true,
        "new_sheet": false,
        "run_control": {
          "read_only": false
        },
        "id": "hM_siu-iDejW"
      },
      "source": [
        "#### Import the Keras library\n"
      ]
    },
    {
      "cell_type": "code",
      "metadata": {
        "button": false,
        "deletable": true,
        "new_sheet": false,
        "run_control": {
          "read_only": false
        },
        "id": "IPUygemxDejW"
      },
      "source": [
        "import keras"
      ],
      "execution_count": 7,
      "outputs": []
    },
    {
      "cell_type": "markdown",
      "metadata": {
        "button": false,
        "deletable": true,
        "new_sheet": false,
        "run_control": {
          "read_only": false
        },
        "id": "bOiJ11uqDejW"
      },
      "source": [
        "#### Import the rest of the packages from the Keras library that we will need to build the regressoin model.\n"
      ]
    },
    {
      "cell_type": "code",
      "metadata": {
        "button": false,
        "deletable": true,
        "new_sheet": false,
        "run_control": {
          "read_only": false
        },
        "id": "zs-ilSjSDejW"
      },
      "source": [
        "from keras.models import Sequential\n",
        "from keras.layers import Dense"
      ],
      "execution_count": 8,
      "outputs": []
    },
    {
      "cell_type": "markdown",
      "metadata": {
        "button": false,
        "deletable": true,
        "new_sheet": false,
        "run_control": {
          "read_only": false
        },
        "id": "g01-L-ajDejW"
      },
      "source": [
        "### Build a Neural Network\n"
      ]
    },
    {
      "cell_type": "markdown",
      "metadata": {
        "button": false,
        "deletable": true,
        "new_sheet": false,
        "run_control": {
          "read_only": false
        },
        "id": "vYQ31fWbDejW"
      },
      "source": [
        "Define a function that defines the regression model that can be conveniently called it to create our model. Use the Keras library to build a neural network with the following:\n",
        "\n",
        "- One hidden layer of 10 nodes, and a ReLU activation function\n",
        "- Use the adam optimizer and the mean squared error  as the loss function.\n"
      ]
    },
    {
      "cell_type": "code",
      "metadata": {
        "button": false,
        "deletable": true,
        "new_sheet": false,
        "run_control": {
          "read_only": false
        },
        "id": "ALE6_kpeDejX"
      },
      "source": [
        "# define regression model\n",
        "def regression_model():\n",
        "    # create model\n",
        "    model = Sequential()\n",
        "    model.add(Dense(10, activation='relu', input_shape=(n_cols,)))\n",
        "    model.add(Dense(1))\n",
        "    # compile model\n",
        "    model.compile(optimizer='adam', loss='mean_squared_error')\n",
        "    return model"
      ],
      "execution_count": 9,
      "outputs": []
    },
    {
      "cell_type": "markdown",
      "metadata": {
        "button": false,
        "deletable": true,
        "new_sheet": false,
        "run_control": {
          "read_only": false
        },
        "id": "hUFs5gLDDejX"
      },
      "source": [
        "<a id=\"item4\"></a>\n"
      ]
    },
    {
      "cell_type": "markdown",
      "metadata": {
        "button": false,
        "deletable": true,
        "new_sheet": false,
        "run_control": {
          "read_only": false
        },
        "id": "bL-H8oe9DejX"
      },
      "source": [
        "### Train and Test the Neural Network"
      ]
    },
    {
      "cell_type": "markdown",
      "metadata": {
        "id": "Ub_KyDGMDejX"
      },
      "source": [
        "#### Create the model.\n"
      ]
    },
    {
      "cell_type": "code",
      "metadata": {
        "button": false,
        "deletable": true,
        "new_sheet": false,
        "run_control": {
          "read_only": false
        },
        "id": "gg74BU0xDejX"
      },
      "source": [
        "# build the model\n",
        "model = regression_model()"
      ],
      "execution_count": 10,
      "outputs": []
    },
    {
      "cell_type": "markdown",
      "metadata": {
        "id": "71ybQS6-DejX"
      },
      "source": [
        "#### 1. Randomly split the data into a training and test sets by holding 30% of the data for testing, using the train_test_split helper function from scikit-learn\n"
      ]
    },
    {
      "cell_type": "code",
      "metadata": {
        "id": "4dxu3XSMDejX"
      },
      "source": [
        "from sklearn.model_selection import train_test_split"
      ],
      "execution_count": 11,
      "outputs": []
    },
    {
      "cell_type": "code",
      "metadata": {
        "id": "b2tQ9V6iDejY"
      },
      "source": [
        "Xtrain, Xtest, ytrain, ytest = train_test_split(predictors, target, test_size=0.3)"
      ],
      "execution_count": 12,
      "outputs": []
    },
    {
      "cell_type": "markdown",
      "metadata": {
        "id": "NoROvWUKDejY"
      },
      "source": [
        "#### 2. Train the model on the training data using 50 epochs."
      ]
    },
    {
      "cell_type": "code",
      "metadata": {
        "colab": {
          "base_uri": "https://localhost:8080/"
        },
        "id": "SjuJzGUuDejY",
        "outputId": "c0ca1669-7472-4950-feeb-f1d7987d1ebb"
      },
      "source": [
        "model.fit(Xtrain, ytrain, epochs=50, verbose=1)"
      ],
      "execution_count": 13,
      "outputs": [
        {
          "output_type": "stream",
          "text": [
            "Epoch 1/50\n",
            "23/23 [==============================] - 1s 1ms/step - loss: 220821.1497\n",
            "Epoch 2/50\n",
            "23/23 [==============================] - 0s 1ms/step - loss: 109642.7008\n",
            "Epoch 3/50\n",
            "23/23 [==============================] - 0s 1ms/step - loss: 51824.8340\n",
            "Epoch 4/50\n",
            "23/23 [==============================] - 0s 1ms/step - loss: 24682.2611\n",
            "Epoch 5/50\n",
            "23/23 [==============================] - 0s 1ms/step - loss: 11554.7799\n",
            "Epoch 6/50\n",
            "23/23 [==============================] - 0s 1ms/step - loss: 6118.6179\n",
            "Epoch 7/50\n",
            "23/23 [==============================] - 0s 6ms/step - loss: 4165.2732\n",
            "Epoch 8/50\n",
            "23/23 [==============================] - 0s 1ms/step - loss: 3442.0602\n",
            "Epoch 9/50\n",
            "23/23 [==============================] - 0s 2ms/step - loss: 3093.6308\n",
            "Epoch 10/50\n",
            "23/23 [==============================] - 0s 1ms/step - loss: 2967.4025\n",
            "Epoch 11/50\n",
            "23/23 [==============================] - 0s 1ms/step - loss: 2765.7836\n",
            "Epoch 12/50\n",
            "23/23 [==============================] - 0s 1ms/step - loss: 2606.6353\n",
            "Epoch 13/50\n",
            "23/23 [==============================] - 0s 1ms/step - loss: 2450.0722\n",
            "Epoch 14/50\n",
            "23/23 [==============================] - 0s 1ms/step - loss: 2261.8234\n",
            "Epoch 15/50\n",
            "23/23 [==============================] - 0s 1ms/step - loss: 2150.0202\n",
            "Epoch 16/50\n",
            "23/23 [==============================] - 0s 1ms/step - loss: 1881.6521\n",
            "Epoch 17/50\n",
            "23/23 [==============================] - 0s 1ms/step - loss: 1632.6454\n",
            "Epoch 18/50\n",
            "23/23 [==============================] - 0s 1ms/step - loss: 1586.8629\n",
            "Epoch 19/50\n",
            "23/23 [==============================] - 0s 1ms/step - loss: 1380.3512\n",
            "Epoch 20/50\n",
            "23/23 [==============================] - 0s 1ms/step - loss: 1318.6442\n",
            "Epoch 21/50\n",
            "23/23 [==============================] - 0s 1ms/step - loss: 1042.1882\n",
            "Epoch 22/50\n",
            "23/23 [==============================] - 0s 1ms/step - loss: 963.1470\n",
            "Epoch 23/50\n",
            "23/23 [==============================] - 0s 1ms/step - loss: 899.2695\n",
            "Epoch 24/50\n",
            "23/23 [==============================] - 0s 2ms/step - loss: 782.1823\n",
            "Epoch 25/50\n",
            "23/23 [==============================] - 0s 1ms/step - loss: 718.4034\n",
            "Epoch 26/50\n",
            "23/23 [==============================] - 0s 1ms/step - loss: 697.5992\n",
            "Epoch 27/50\n",
            "23/23 [==============================] - 0s 1ms/step - loss: 643.6723\n",
            "Epoch 28/50\n",
            "23/23 [==============================] - 0s 1ms/step - loss: 584.4525\n",
            "Epoch 29/50\n",
            "23/23 [==============================] - 0s 1ms/step - loss: 512.1662\n",
            "Epoch 30/50\n",
            "23/23 [==============================] - 0s 1ms/step - loss: 520.5901\n",
            "Epoch 31/50\n",
            "23/23 [==============================] - 0s 1ms/step - loss: 533.5257\n",
            "Epoch 32/50\n",
            "23/23 [==============================] - 0s 1ms/step - loss: 447.1576\n",
            "Epoch 33/50\n",
            "23/23 [==============================] - 0s 1ms/step - loss: 421.7534\n",
            "Epoch 34/50\n",
            "23/23 [==============================] - 0s 1ms/step - loss: 373.2340\n",
            "Epoch 35/50\n",
            "23/23 [==============================] - 0s 1ms/step - loss: 389.5083\n",
            "Epoch 36/50\n",
            "23/23 [==============================] - 0s 1ms/step - loss: 352.6824\n",
            "Epoch 37/50\n",
            "23/23 [==============================] - 0s 1ms/step - loss: 371.8256\n",
            "Epoch 38/50\n",
            "23/23 [==============================] - 0s 2ms/step - loss: 326.4103\n",
            "Epoch 39/50\n",
            "23/23 [==============================] - 0s 1ms/step - loss: 313.8375\n",
            "Epoch 40/50\n",
            "23/23 [==============================] - 0s 1ms/step - loss: 323.7496\n",
            "Epoch 41/50\n",
            "23/23 [==============================] - 0s 1ms/step - loss: 276.3526\n",
            "Epoch 42/50\n",
            "23/23 [==============================] - 0s 1ms/step - loss: 279.8221\n",
            "Epoch 43/50\n",
            "23/23 [==============================] - 0s 1ms/step - loss: 261.3992\n",
            "Epoch 44/50\n",
            "23/23 [==============================] - 0s 1ms/step - loss: 254.4938\n",
            "Epoch 45/50\n",
            "23/23 [==============================] - 0s 1ms/step - loss: 260.8497\n",
            "Epoch 46/50\n",
            "23/23 [==============================] - 0s 1ms/step - loss: 241.4816\n",
            "Epoch 47/50\n",
            "23/23 [==============================] - 0s 1ms/step - loss: 243.6370\n",
            "Epoch 48/50\n",
            "23/23 [==============================] - 0s 1ms/step - loss: 258.8843\n",
            "Epoch 49/50\n",
            "23/23 [==============================] - 0s 1ms/step - loss: 262.3670\n",
            "Epoch 50/50\n",
            "23/23 [==============================] - 0s 1ms/step - loss: 214.7538\n"
          ],
          "name": "stdout"
        },
        {
          "output_type": "execute_result",
          "data": {
            "text/plain": [
              "<tensorflow.python.keras.callbacks.History at 0x7f9494f56390>"
            ]
          },
          "metadata": {
            "tags": []
          },
          "execution_count": 13
        }
      ]
    },
    {
      "cell_type": "markdown",
      "metadata": {
        "id": "IWZTCJgYDejY"
      },
      "source": [
        "#### 3. Evaluate the model on the test data and compute the mean squared error between the predicted concrete strength and the actual concrete strength, using the mean_squared_error function from scikit-learn."
      ]
    },
    {
      "cell_type": "code",
      "metadata": {
        "id": "Abt0CkzRDejY"
      },
      "source": [
        "from sklearn.metrics import mean_squared_error"
      ],
      "execution_count": 14,
      "outputs": []
    },
    {
      "cell_type": "code",
      "metadata": {
        "colab": {
          "base_uri": "https://localhost:8080/"
        },
        "id": "e7BSL6mFDejY",
        "outputId": "99601482-3e1e-4103-ccad-3f55a59260bd"
      },
      "source": [
        "MSE = mean_squared_error (ytest, model.predict(Xtest))\n",
        "print (\"MSE between predicted and actual concrete strength: \", MSE)"
      ],
      "execution_count": 15,
      "outputs": [
        {
          "output_type": "stream",
          "text": [
            "MSE between predicted and actual concrete strength:  189.92326194746306\n"
          ],
          "name": "stdout"
        }
      ]
    },
    {
      "cell_type": "markdown",
      "metadata": {
        "id": "JSSoEuYBDejZ"
      },
      "source": [
        "#### 4. Repeat steps 1 - 3, 50 times, i.e., create a list of 50 mean squared errors"
      ]
    },
    {
      "cell_type": "code",
      "metadata": {
        "id": "1Lbt_9hoDejZ"
      },
      "source": [
        "# build the model\n",
        "model = regression_model()"
      ],
      "execution_count": 16,
      "outputs": []
    },
    {
      "cell_type": "code",
      "metadata": {
        "colab": {
          "base_uri": "https://localhost:8080/"
        },
        "id": "qkV-pXCFDejZ",
        "outputId": "e44c522d-6138-4d13-8f52-8ce32edccbcf"
      },
      "source": [
        "MSE = np.empty(50)\n",
        "for i in range(50):\n",
        "    Xtrain, Xtest, ytrain, ytest = train_test_split(predictors, target, test_size=0.3)\n",
        "    model.fit(Xtrain, ytrain, epochs=50, verbose=0)\n",
        "    MSE[i] = mean_squared_error (ytest, model.predict(Xtest))\n",
        "    \n",
        "print (\"Part A: List of Mean Squared Errors: \", MSE)"
      ],
      "execution_count": 17,
      "outputs": [
        {
          "output_type": "stream",
          "text": [
            "Part A: List of Mean Squared Errors:  [204.62386023 117.57650823  92.1441848  127.20617894 109.16836379\n",
            "  85.80755447  72.87554873 101.7964256   49.83241802  56.77296298\n",
            "  51.9245604   52.86710782  54.62628687  60.63462231  46.86303951\n",
            "  49.60715631  50.58064404  58.53309742  50.40535078  51.64528307\n",
            "  48.41575004  54.41002769  45.05263344  48.26211793  46.71014838\n",
            "  53.14018732  55.95826397  49.7014904   42.53386846  51.365661\n",
            "  56.5142754   54.02376332  49.56887522  46.48954268  47.77937741\n",
            "  41.61425377  47.06105842  45.76400682  47.73003207  56.42465018\n",
            "  47.80587435  55.12436319  48.928889    47.98280485  49.05640859\n",
            "  47.24180648  45.45593326  46.75819352  46.67925785  51.70327309]\n"
          ],
          "name": "stdout"
        }
      ]
    },
    {
      "cell_type": "markdown",
      "metadata": {
        "id": "5bTF_xLnDejZ"
      },
      "source": [
        "#### 5. Report the mean and the standard deviation of the mean squared errors."
      ]
    },
    {
      "cell_type": "code",
      "metadata": {
        "colab": {
          "base_uri": "https://localhost:8080/"
        },
        "id": "AwyXn4CbDejZ",
        "outputId": "2bfcb7ef-64ec-419e-b876-6b771f2d9406"
      },
      "source": [
        "MSE_mean = MSE.mean()\n",
        "MSE_std = MSE.std()\n",
        "\n",
        "print (\"Part A: Mean of the Mean Squared Errors: \", MSE_mean)\n",
        "print (\"Part A: Standard Deviation of the Mean Squared Errors: \", MSE_std)"
      ],
      "execution_count": 18,
      "outputs": [
        {
          "output_type": "stream",
          "text": [
            "Part A: Mean of the Mean Squared Errors:  60.41495884758537\n",
            "Part A: Standard Deviation of the Mean Squared Errors:  28.117135586677158\n"
          ],
          "name": "stdout"
        }
      ]
    },
    {
      "cell_type": "markdown",
      "metadata": {
        "id": "6rENDL12DejZ"
      },
      "source": [
        "## B. Normalize the data\n",
        "\n",
        "Repeating Part A using a normalized version of the data\n",
        "\n",
        "Q) How does the mean of the mean squared errors compare to that from Step A?\n"
      ]
    },
    {
      "cell_type": "markdown",
      "metadata": {
        "id": "TNeBU4cHDejZ"
      },
      "source": [
        "#### Normalize the data by substracting the mean from the individual predictors and dividing by the standard deviation."
      ]
    },
    {
      "cell_type": "code",
      "metadata": {
        "colab": {
          "base_uri": "https://localhost:8080/",
          "height": 195
        },
        "id": "wW78rIHiDeja",
        "outputId": "c712af6a-c1d9-47c5-902c-33c37dada687"
      },
      "source": [
        "predictors_norm = (predictors - predictors.mean()) / predictors.std()\n",
        "predictors_norm.head()"
      ],
      "execution_count": 19,
      "outputs": [
        {
          "output_type": "execute_result",
          "data": {
            "text/html": [
              "<div>\n",
              "<style scoped>\n",
              "    .dataframe tbody tr th:only-of-type {\n",
              "        vertical-align: middle;\n",
              "    }\n",
              "\n",
              "    .dataframe tbody tr th {\n",
              "        vertical-align: top;\n",
              "    }\n",
              "\n",
              "    .dataframe thead th {\n",
              "        text-align: right;\n",
              "    }\n",
              "</style>\n",
              "<table border=\"1\" class=\"dataframe\">\n",
              "  <thead>\n",
              "    <tr style=\"text-align: right;\">\n",
              "      <th></th>\n",
              "      <th>Cement</th>\n",
              "      <th>Blast Furnace Slag</th>\n",
              "      <th>Fly Ash</th>\n",
              "      <th>Water</th>\n",
              "      <th>Superplasticizer</th>\n",
              "      <th>Coarse Aggregate</th>\n",
              "      <th>Fine Aggregate</th>\n",
              "      <th>Age</th>\n",
              "    </tr>\n",
              "  </thead>\n",
              "  <tbody>\n",
              "    <tr>\n",
              "      <th>0</th>\n",
              "      <td>2.476712</td>\n",
              "      <td>-0.856472</td>\n",
              "      <td>-0.846733</td>\n",
              "      <td>-0.916319</td>\n",
              "      <td>-0.620147</td>\n",
              "      <td>0.862735</td>\n",
              "      <td>-1.217079</td>\n",
              "      <td>-0.279597</td>\n",
              "    </tr>\n",
              "    <tr>\n",
              "      <th>1</th>\n",
              "      <td>2.476712</td>\n",
              "      <td>-0.856472</td>\n",
              "      <td>-0.846733</td>\n",
              "      <td>-0.916319</td>\n",
              "      <td>-0.620147</td>\n",
              "      <td>1.055651</td>\n",
              "      <td>-1.217079</td>\n",
              "      <td>-0.279597</td>\n",
              "    </tr>\n",
              "    <tr>\n",
              "      <th>2</th>\n",
              "      <td>0.491187</td>\n",
              "      <td>0.795140</td>\n",
              "      <td>-0.846733</td>\n",
              "      <td>2.174405</td>\n",
              "      <td>-1.038638</td>\n",
              "      <td>-0.526262</td>\n",
              "      <td>-2.239829</td>\n",
              "      <td>3.551340</td>\n",
              "    </tr>\n",
              "    <tr>\n",
              "      <th>3</th>\n",
              "      <td>0.491187</td>\n",
              "      <td>0.795140</td>\n",
              "      <td>-0.846733</td>\n",
              "      <td>2.174405</td>\n",
              "      <td>-1.038638</td>\n",
              "      <td>-0.526262</td>\n",
              "      <td>-2.239829</td>\n",
              "      <td>5.055221</td>\n",
              "    </tr>\n",
              "    <tr>\n",
              "      <th>4</th>\n",
              "      <td>-0.790075</td>\n",
              "      <td>0.678079</td>\n",
              "      <td>-0.846733</td>\n",
              "      <td>0.488555</td>\n",
              "      <td>-1.038638</td>\n",
              "      <td>0.070492</td>\n",
              "      <td>0.647569</td>\n",
              "      <td>4.976069</td>\n",
              "    </tr>\n",
              "  </tbody>\n",
              "</table>\n",
              "</div>"
            ],
            "text/plain": [
              "     Cement  Blast Furnace Slag  ...  Fine Aggregate       Age\n",
              "0  2.476712           -0.856472  ...       -1.217079 -0.279597\n",
              "1  2.476712           -0.856472  ...       -1.217079 -0.279597\n",
              "2  0.491187            0.795140  ...       -2.239829  3.551340\n",
              "3  0.491187            0.795140  ...       -2.239829  5.055221\n",
              "4 -0.790075            0.678079  ...        0.647569  4.976069\n",
              "\n",
              "[5 rows x 8 columns]"
            ]
          },
          "metadata": {
            "tags": []
          },
          "execution_count": 19
        }
      ]
    },
    {
      "cell_type": "code",
      "metadata": {
        "id": "2KiN7BlADeja"
      },
      "source": [
        "n_cols = predictors_norm.shape[1] # number of predictors"
      ],
      "execution_count": 20,
      "outputs": []
    },
    {
      "cell_type": "markdown",
      "metadata": {
        "id": "urVtYLldDeja"
      },
      "source": [
        "#### Build the model for Part B using normalized data\n",
        "model = regression_model()"
      ]
    },
    {
      "cell_type": "markdown",
      "metadata": {
        "id": "PLYFCqlqDejb"
      },
      "source": [
        "#### Repeat steps in Part A to create a list of 50 mean squared errors (using normalized data model)"
      ]
    },
    {
      "cell_type": "code",
      "metadata": {
        "colab": {
          "base_uri": "https://localhost:8080/"
        },
        "id": "YcCitR5vDejb",
        "outputId": "813bf59b-5011-43ac-ad8a-c4f5f18efcb3"
      },
      "source": [
        "MSE = np.empty(50)\n",
        "for i in range(50):\n",
        "    Xtrain, Xtest, ytrain, ytest = train_test_split(predictors, target, test_size=0.3)\n",
        "    model.fit(Xtrain, ytrain, epochs=50, verbose=0)\n",
        "    MSE[i] = mean_squared_error (ytest, model.predict(Xtest))\n",
        "    \n",
        "print (\"Part B: List of Mean Squared Errors: \", MSE)"
      ],
      "execution_count": 21,
      "outputs": [
        {
          "output_type": "stream",
          "text": [
            "Part B: List of Mean Squared Errors:  [35.97349495 46.79673077 51.41033353 56.36646451 49.97935578 47.61795859\n",
            " 43.90224749 43.47058795 45.53689852 44.18646717 49.63780913 47.61260562\n",
            " 53.63038179 41.47941658 42.7383987  44.05558029 45.02135105 49.9977054\n",
            " 50.33390525 47.05174755 47.38489214 54.225938   46.08559216 49.27092801\n",
            " 42.12879194 42.57838281 39.5871525  41.439141   47.46798377 45.68256563\n",
            " 47.75398365 48.92418583 53.26483494 65.04573596 41.72506877 46.72745943\n",
            " 43.06792811 39.84358992 46.17479532 53.75281636 49.4984579  48.17028091\n",
            " 41.96537463 47.086767   40.85014001 43.99223453 52.39888475 47.57791673\n",
            " 45.92033309 43.8393963 ]\n"
          ],
          "name": "stdout"
        }
      ]
    },
    {
      "cell_type": "markdown",
      "metadata": {
        "id": "oyyjw98bDejb"
      },
      "source": [
        "#### Calculating mean and standard deviation for Part B"
      ]
    },
    {
      "cell_type": "code",
      "metadata": {
        "colab": {
          "base_uri": "https://localhost:8080/"
        },
        "id": "4CoJ1MAEDejb",
        "outputId": "fcbfc626-01db-43a3-9302-7312440622fa"
      },
      "source": [
        "MSE_mean = MSE.mean()\n",
        "MSE_std = MSE.std()\n",
        "\n",
        "print (\"Part B: Mean of the Mean Squared Errors: \", MSE_mean)\n",
        "print (\"Part B: Standard Deviation of the Mean Squared Errors: \", MSE_std)"
      ],
      "execution_count": 22,
      "outputs": [
        {
          "output_type": "stream",
          "text": [
            "Part B: Mean of the Mean Squared Errors:  46.804619854084834\n",
            "Part B: Standard Deviation of the Mean Squared Errors:  4.941348110954295\n"
          ],
          "name": "stdout"
        }
      ]
    },
    {
      "cell_type": "markdown",
      "metadata": {
        "id": "-8PJ-mqSDejb"
      },
      "source": [
        "## C. Increase the number of epochs\n",
        "\n",
        "Repeat Part B using 100 epochs this time for training.\n",
        "\n",
        "Q) How does the mean of the mean squared errors compare to that from Step B?"
      ]
    },
    {
      "cell_type": "markdown",
      "metadata": {
        "id": "IVA6WNQ2Dejb"
      },
      "source": [
        "#### Repeating steps in Part B using 100 epochs for training"
      ]
    },
    {
      "cell_type": "markdown",
      "metadata": {
        "id": "IkTKj4zaDejb"
      },
      "source": [
        "#### Build the model for Part C\n",
        "model = regression_model()"
      ]
    },
    {
      "cell_type": "code",
      "metadata": {
        "colab": {
          "base_uri": "https://localhost:8080/"
        },
        "id": "DzA7FhSlDejc",
        "outputId": "eb917802-c6de-4d0d-e736-e4d81030e0bb"
      },
      "source": [
        "MSE = np.empty(50)\n",
        "for i in range(50):\n",
        "    Xtrain, Xtest, ytrain, ytest = train_test_split(predictors, target, test_size=0.3)\n",
        "    model.fit(Xtrain, ytrain, epochs=100, verbose=0)\n",
        "    MSE[i] = mean_squared_error (ytest, model.predict(Xtest))\n",
        "    \n",
        "print (\"Part C: List of Mean Squared Errors: \", MSE)"
      ],
      "execution_count": 23,
      "outputs": [
        {
          "output_type": "stream",
          "text": [
            "Part C: List of Mean Squared Errors:  [49.01244807 43.33304682 43.07213573 49.61595151 37.89082494 44.43029875\n",
            " 40.14412828 40.44547089 42.86058228 44.99583399 41.48051974 43.60020119\n",
            " 42.53268636 45.81725541 43.26584844 38.31213379 42.87897494 40.75871838\n",
            " 42.90387156 40.52969693 44.55669794 36.96015647 38.37027081 40.41617238\n",
            " 35.09841415 46.33142113 44.3256339  30.96938962 43.7954154  42.74130468\n",
            " 44.02987844 33.25976339 34.89516592 42.99191864 39.03944582 40.35050443\n",
            " 40.99177902 37.17677183 39.79349745 42.91037882 41.50202938 39.01404397\n",
            " 42.52232649 40.13749437 32.96367523 41.70437986 46.72815174 37.66590097\n",
            " 37.9589559  39.41735196]\n"
          ],
          "name": "stdout"
        }
      ]
    },
    {
      "cell_type": "markdown",
      "metadata": {
        "id": "djaPTGgZDejc"
      },
      "source": [
        "#### Calculating mean and standard deviation for Part C"
      ]
    },
    {
      "cell_type": "code",
      "metadata": {
        "colab": {
          "base_uri": "https://localhost:8080/"
        },
        "id": "oIv7PSa_Dejc",
        "outputId": "d833b363-8b3d-4b33-fa2d-2bff0fb47e44"
      },
      "source": [
        "MSE_mean = MSE.mean()\n",
        "MSE_std = MSE.std()\n",
        "\n",
        "print (\"Part C: Mean of the Mean Squared Errors: \", MSE_mean)\n",
        "print (\"Part C: Standard Deviation of the Mean Squared Errors: \", MSE_std)"
      ],
      "execution_count": 24,
      "outputs": [
        {
          "output_type": "stream",
          "text": [
            "Part C: Mean of the Mean Squared Errors:  41.12997836299742\n",
            "Part C: Standard Deviation of the Mean Squared Errors:  3.8102513582776254\n"
          ],
          "name": "stdout"
        }
      ]
    },
    {
      "cell_type": "markdown",
      "metadata": {
        "id": "N6QmUsaxDejc"
      },
      "source": [
        "## D. Increase the number of hidden layers\n",
        "\n",
        "Repeat part B using a neural network with the following:\n",
        "\n",
        "- Three hidden layers, each of 10 nodes and ReLU activation function.\n",
        "\n",
        "Q) How does the mean of the mean squared errors compare to that from Step B?"
      ]
    },
    {
      "cell_type": "markdown",
      "metadata": {
        "id": "Di8mR6YfDejc"
      },
      "source": [
        "#### Define regression model with 3 hidden layers, each of 10 nodes and ReLU activation functions\n"
      ]
    },
    {
      "cell_type": "code",
      "metadata": {
        "id": "AT3zYcRpEhNe"
      },
      "source": [
        "def regression_model():\r\n",
        "    # create model\r\n",
        "    model = Sequential()\r\n",
        "    model.add(Dense(10, activation='relu', input_shape=(n_cols,)))\r\n",
        "    model.add(Dense(10, activation='relu'))\r\n",
        "    model.add(Dense(10, activation='relu'))\r\n",
        "    model.add(Dense(1))\r\n",
        "    # compile model\r\n",
        "    model.compile(optimizer='adam', loss='mean_squared_error')\r\n",
        "    return model"
      ],
      "execution_count": 31,
      "outputs": []
    },
    {
      "cell_type": "markdown",
      "metadata": {
        "id": "r3haFbGqDejc"
      },
      "source": [
        "#### Build the model for Part D\n"
      ]
    },
    {
      "cell_type": "markdown",
      "metadata": {
        "id": "LrAufsghDejc"
      },
      "source": [
        "#### Repeating steps in Part B using 50 epochs for training the neural network of Part D"
      ]
    },
    {
      "cell_type": "code",
      "metadata": {
        "colab": {
          "base_uri": "https://localhost:8080/"
        },
        "id": "qpNxv5hpDejd",
        "outputId": "22df608f-4afa-46cd-dd48-44069ac26b9d"
      },
      "source": [
        "MSE = np.empty(50)\n",
        "for i in range(50):\n",
        "    Xtrain, Xtest, ytrain, ytest = train_test_split(predictors, target, test_size=0.3)\n",
        "    model.fit(Xtrain, ytrain, epochs=50, verbose=0)\n",
        "    MSE[i] = mean_squared_error (ytest, model.predict(Xtest))\n",
        "    \n",
        "print (\"Part D: List of Mean Squared Errors: \", MSE)"
      ],
      "execution_count": 33,
      "outputs": [
        {
          "output_type": "stream",
          "text": [
            "Part D: List of Mean Squared Errors:  [121.17456501  88.77169546  95.94539329  69.77147163  71.22014853\n",
            "  69.55994493  72.28442872  60.65206323  55.36719962  44.09799091\n",
            "  45.41963288  48.18680248  52.21848433  55.07457483  46.32345614\n",
            "  48.08749686  39.14556331  43.62201889  42.054671    40.82747687\n",
            "  37.20777878  42.36374575  35.9790727   36.93209218  37.66414697\n",
            "  52.19097611  46.38419056  42.18759172  37.62044214  37.90793356\n",
            "  37.85515848  44.74135408  44.23925652  49.59562314  42.57456471\n",
            "  47.64002371  43.19374526  40.61985735  43.92339043  40.95479115\n",
            "  44.35269371  39.5065515   37.50644475  41.94618834  43.62735563\n",
            "  40.14080867  35.0205706   42.85129725  50.42620852  47.2075316 ]\n"
          ],
          "name": "stdout"
        }
      ]
    },
    {
      "cell_type": "markdown",
      "metadata": {
        "id": "RKWAbIqPDejd"
      },
      "source": [
        "#### Calculating mean and standard deviation for Part D"
      ]
    },
    {
      "cell_type": "code",
      "metadata": {
        "colab": {
          "base_uri": "https://localhost:8080/"
        },
        "id": "hGxesuTGDejd",
        "outputId": "9d89d916-e728-4893-9b96-bbb46baa96cb"
      },
      "source": [
        "MSE_mean = MSE.mean()\n",
        "MSE_std = MSE.std()\n",
        "\n",
        "print (\"Part D: Mean of the Mean Squared Errors: \", MSE_mean)\n",
        "print (\"Part D: Standard Deviation of the Mean Squared Errors: \", MSE_std)"
      ],
      "execution_count": 34,
      "outputs": [
        {
          "output_type": "stream",
          "text": [
            "Part D: Mean of the Mean Squared Errors:  49.48332929559162\n",
            "Part D: Standard Deviation of the Mean Squared Errors:  16.351410934698176\n"
          ],
          "name": "stdout"
        }
      ]
    },
    {
      "cell_type": "code",
      "metadata": {
        "id": "l8AQ0DcmEme2"
      },
      "source": [
        ""
      ],
      "execution_count": null,
      "outputs": []
    }
  ]
}